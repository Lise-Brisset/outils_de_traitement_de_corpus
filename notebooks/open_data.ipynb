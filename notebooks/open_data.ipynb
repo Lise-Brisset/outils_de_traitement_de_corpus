{
 "cells": [
  {
   "cell_type": "markdown",
   "metadata": {
    "slideshow": {
     "slide_type": "slide"
    }
   },
   "source": [
    "On sait ouvrir des fichiers"
   ]
  },
  {
   "cell_type": "code",
   "execution_count": 4,
   "metadata": {
    "slideshow": {
     "slide_type": "fragment"
    }
   },
   "outputs": [
    {
     "data": {
      "text/plain": [
       "['Vous lisez un «\\xa0 article de qualité \\xa0» labellisé en 2010. Pour un article plus général, voir  Chat .  Le  ronronnement  est une  vocalisation  émise par certains  félins  et  viverridés . Produit à l’expiration comme à l’inspiration, ce son de basse fréquence apparaît dès l’âge de deux jours. Le mécanisme du ronronnement est encore mal expliqué. La théorie dominante est que le son est produit par des contractions des muscles du  larynx  déclenchées par une  oscillation neurale  et faisant vibrer les  cordes vocales . La possibilité pour un félin de ronronner ou non est également un point débattu, notamment pour les grands félins de la  sous-famille  des  Panthérinés . Le ronronnement est essentiellement limité aux relations mère-progéniture dans la nature, mais le  chat domestique  peut ronronner tant dans une situation de  plaisir  que de  souffrance , c’est pourquoi la signification de cette vocalisation de contact est peu évidente. Comparé au  sourire  par certains auteurs, son rôle social, tant avec des congénères qu’avec l’ Homme , est primordial. Une théorie assure au ronronnement un rôle  curatif \\xa0: les basses fréquences émises permettraient de renforcer les os, les muscles, les tendons et auraient même un rôle anti- douleur . En français, les termes associés au mot  «\\xa0ronronnement\\xa0»  sont tirés de l’ onomatopée   «\\xa0ronron\\xa0» .']"
      ]
     },
     "execution_count": 4,
     "metadata": {},
     "output_type": "execute_result"
    }
   ],
   "source": [
    "with open(\"../data/raw/ronronnement.txt\", 'r') as file:\n",
    "    data = file.readlines()\n",
    "data"
   ]
  },
  {
   "cell_type": "markdown",
   "metadata": {
    "slideshow": {
     "slide_type": "slide"
    }
   },
   "source": [
    "Dans le cas de nos données structurés, on va peut être avoir des fichiers `csv`... \n",
    "\n",
    "Python a une bibliothèque expres pour lire les csv"
   ]
  },
  {
   "cell_type": "code",
   "execution_count": 5,
   "metadata": {
    "slideshow": {
     "slide_type": "subslide"
    }
   },
   "outputs": [
    {
     "name": "stdout",
     "output_type": "stream",
     "text": [
      "['id,title,content,question,answer']\n",
      "['1,capillarité,\"Cet article  ne cite pas suffisamment ses sources   ( mai 2013 ).  Si vous disposez d\\'ouvrages ou d\\'articles de référence ou si vous connaissez des sites web de qualité traitant du thème abordé ici, merci de compléter l\\'article en donnant les  références utiles à sa  vérifiabilité  et en les liant à la section « Notes et références ». En pratique:   Quelles sources sont attendues?   Comment ajouter mes sources?  La  capillarité  est le phénomène d\\'interaction qui se produit aux interfaces entre deux liquides non  miscibles , entre un liquide et l\\' air  ou entre un  liquide  et une surface. Elle est due aux forces de  tension superficielle  entre les différentes phases en présence. \",Quelle force de tension se produit sur la capillarité ?,\"{\\'text\\': \\'forces de  tension superficielle\\', \\'answer_start\\': 614}\"']\n",
      "['2,félidés,\"Félidés •  Félins «Félin» redirige ici. Pour les autres significations, voir  Félin (homonymie) . Pour l’article homonyme, voir  Felidae (film) . Famille Sous-familles  de rang inférieur Les  Félidés  ( Felidae ) ou   Félins  sont une  famille  de  mammifères   placentaires  de l\\'ordre des  carnivores  et du sous-ordre des  féliformes . Si on exclut le  taxon  fossile des  Proailurinae , qui ne possède qu\\'un seul et unique  genre  connu, on y  distingue trois  sous-familles : les «petits félins» ( Felinae ), les «grands félins» ( Pantherinae ) et les félins dit «à dents de sabre» ( Machairodontinae ),  aujourd\\'hui éteints .Parmi leurs traits caractéristiques figurent leur  tête  ronde au crâne raccourci, leur  mâchoire  dotée d’environ trente  dents , et leurs  griffes  rétractiles, exception faite du  chat viverrin  et du  chat à tête plate  (semi-rétractiles) et du  guépard  (non rétractiles). Les félins sont  digitigrades , c’est-à-dire qu’ils marchent en appuyant sur leurs doigts (la plante du pied ne se pose pas sur le sol). Proailurus , qui vivait en  Eurasie  il y a environ 25millions d’années dans la période de l’ Oligocène , est à l\\'heure actuelle considéré comme le plus vieux fossile de félidé. On considère  Pseudaelurus  comme le dernier ancêtre commun des félins modernes.\",Quel est le denier encêtre commun des félins modernes ?,\"{\\'text\\': \\'Pseudaelurus\\', \\'answer_start\\': 1238}\"']\n",
      "['3,sourire,\"Pour les articles homonymes, voir  Sourire (homonymie) . Le  sourire  est une expression du visage témoignant en général de la sympathie. Le mot sourire est apparu au Moyen Âge, issu du verbe latin  sub-ridere  qui signifie prendre une expression rieuse ou ironique, destiné à tromper, mais le sens se rapproche plus du mot latin  risus  qui appartient au vocabulaire du rire. Le sourire est une expression du  visage  qui se forme par la tension de muscles, plus particulièrement aux deux coins de la bouche, mais aussi autour des yeux [ 1 ] . Il exprime généralement le plaisir ou l\\'amusement, mais aussi l\\' ironie , et joue ainsi un rôle social important. Le  cerveau humain  serait capable d\\'isoler un sourire du reste du visage, ce qui se vérifie en observant une photo retournée verticalement où le sourire est, lui, resté dans le bon sens [ 1 ] . Le sourire est une attitude assimilée par renforcement comme positive, et cela dès la naissance, mais il est considéré comme inné et  génétiquement  déterminé, puisqu’il apparaît chez des  enfants   sourds  et  aveugles  de naissance.\",Que témoigne le sourire ?,\"{\\'text\\': \\'la sympathie\\', \\'answer_start\\': 124}\"']\n",
      "['4,races,\"«Racial» redirige ici. Pour l’article homophone, voir  Rassial . Cet article concerne le concept de race en zoologie. Pour les articles homonymes, voir  race (homonymie) . Pour l\\'application du concept à l\\'espèce humaine, voir  race humaine . Chez les  animaux domestiques , la  race  est un  rang taxinomique  informel, inférieur à l\\' espèce . Les races et les  sous-races  sont distinguées à des fins d\\' élevage  et de  sélection . On parle ainsi de races  bovines ,  canines ,  félines , ou  caprines . Les  taxons  au rang de race n\\'ont pas de  noms scientifiques  internationaux [ 1 ] , leur circonscription  taxinomique  repose généralement sur des critères subjectifs et pratiques (notamment utilisés pour la désignation commerciale) [ 2 ] . Ces variations sont généralement très faibles pour les races sélectionnées afin de veiller à un certain standard, dont on exige par exemple des prestations particulières pour satisfaire de façon optimale à un but d\\'utilisation. Par contre, la variabilité peut être très importante entre races géographiques. Il s\\'agit d\\'un concept lié à l\\'aspect commercial davantage que scientifique. Cet article concerne plus particulièrement l\\'acception du mot «race» pour désigner des groupes d\\'une même espèce animale. En  nomenclature botanique et mycologique  où le terme de «race» n\\'est pas un rang taxinomique  codifié , on parle de  variété  ou de  sous-espèce [ 3 ] . Il reste cependant possible d\\'utiliser le mot de «variété animale» [ 4 ]  domestique pour désigner une population animale sélectionnée constituée d\\'une fraction des animaux d\\'une espèce que des traitements particuliers de sélection ont eu pour effet de distinguer des autres animaux de l\\'espèce par un petit nombre de caractères dont l\\'énumération définit le modèle. En  microbiologie  et en  virologie , on parle plutôt de  souche  afin de désigner au sein d\\'une même espèce microbienne, une population divergeant du reste de l\\'espèce sur un ou quelques traits différentiels (ex.: une souche de  Escherichia coli  pathogène pour l\\'homme, alors que la majorité des populations de cette espèce ne le sont pas). Pour les espèces naturelles, les termes sous-espèce ou  population  (selon la divergence et le groupe considéré) sont utilisés [réf.nécessaire] . L\\'utilisation de critères biologiques prétendant définir différentes «races» humaines au sein de l\\' espèce humaine  soulève des questions  éthiques  et même logique (on ne vend pas aujourd\\'hui les hommes dans les pays développés et une désignation commerciale y est donc sans objet). Les controverses sur ce sujet ne sont pas développées ici mais dans l\\'article  Race humaine .\",Que désigne le mot «race» ? ,\"{\\'text\\': \"\"des groupes d\\'une même espèce animale\"\", \\'answer_start\\': 1217}\"']\n",
      "['5,toilette,\"Pour les toiletteurs, voir  Toiletteur . Le  toilettage  chez les animaux est une activité instinctive et pour partie parfois apprise et transmises aux générations suivantes (utilisation d\\'eau chaude, de terre, de feuilles ou de poussière par exemple). Certaines espèces, aussi différentes que la  poule  ou l\\' éléphant  s\\'aspergent d\\'eau ou de poussière pour se nettoyer ou débarrasser de leurs  parasites . Un toilettage particulier peut suivre l\\'alimentation (nettoyage du sang, de la terre, de la  sève  ou de jus issus des aliments) ou des combats. Pour l\\'épouillage humain, voir  Pédiculose du cuir chevelu  et  Pédiculose corporelle . C’est en 1850 qu’est apparue la tondeuse pour chien', ' elle servait alors à une cause utilitaire. Par exemple, les chiens de rapport à l’eau se voyaient tondre une bonne partie du corps (dos, pattes arrière…) pour les alléger et faciliter leur nage. La fourrure était cependant laissée sur l’avant du corps pour que le chien ne prenne pas froid. C’est d’ailleurs de là que vient la coupe «lion» du caniche. Aujourd’hui, cette coupe a évolué pour allier utilité et esthétique, et l’on peut croiser de temps en temps un caniche en coupe lion continentale sous ses différentes variantes. Quelques années plus tard, en 1933, le premier Salon de Toilettage ouvre ses portes à Paris. Très vite, d’autres salons ouvrent partout ailleurs. Et doucement, la demande «utilitaire» évolue en demande de «mise en valeur». Les propriétaires veulent également que leur chien soit élégant. C’est ainsi que dans les années 1970, l’on commence à entendre parler de toilettage commercial, c’est-à-dire un toilettage qui allie praticité et beauté, sans pour autant être un toilettage d’exposition, tout à fait conforme au standard.\",Quand est apparue la tondeuse pour chien ?,\"{\\'text\\': \\'en 1850\\', \\'answer_start\\': 648}\"']\n",
      "['6,clavicule,\"Certaines informations figurant dans cet article ou cette section devraient être mieux reliées aux sources mentionnées dans les sections «Bibliographie», «Sources» ou «Liens externes»   ( août 2015 ).  Vous pouvez améliorer la  vérifiabilité  en  associant ces informations à des références  à l\\'aide d\\' appels de notes . modifier  -  modifier le code  -  modifier Wikidata La  clavicule  (du latin  clavicula , «petite clef») chez l\\'être humain est un  os long  pair faisant partie de la  ceinture scapulaire . C\\'est le seul os long en position horizontale.\",Où se situe la clavicule ?,\"{\\'text\\': \\'la  ceinture scapulaire\\', \\'answer_start\\': 486}\"']\n",
      "['7,poisson,\"Pour les articles homonymes, voir  Poisson (homonymie) . Taxons concernés Les  espèces  de la  classe   et de la  super-classe  Articles connexes L\\'étude des poissons modifier   Les  poissons  sont des  animaux   vertébrés   aquatiques  à  branchies , pourvus de  nageoires  et dont le corps est généralement couvert d\\' écailles . On les trouve abondamment aussi bien en  eau douce , en  eau saumâtre  et en  eau de mer , depuis les sources de montagne ( omble de fontaine ,  goujon ) jusqu\\'au plus profond des  océans  ( grandgousier ,  poisson-ogre ). Leur répartition est toutefois très inégale: 50% des poissons vivraient dans 17% de la surface des océans [ 1 ] . Les poissons ont une très grande importance pour les humains: Dans la  classification phylogénétique [ 2 ] , obtenue par application des méthodes  cladistiques , les poissons forment un groupe  paraphylétique  de  vertébrés , donc non reconnu, car il exclut les  tétrapodes  (vertébrés terrestres). La super-classe des Poissons (les Pisces) de la  classification classique  n\\'est reconnue que par certains  systématiciens évolutionnistes [ 3 ] . Les espèces actuelles (non éteintes) de poissons sont réparties dans quatre taxons: les  Pétromyzontides  (lamproies), les  Chondrichtyens  (raies, requins et chimères), les  Actinoptérygiens  (poissons les plus communs), les  Sarcoptérygiens  ( Dipneustes  et  Actinistiens ). On y associe parfois les  Myxinoïdes . Le premier  inventaire ichtyologique  de  France  semble être celui de  Pierre Belon , en 1555,  La nature et la diversité des poissons avec leurs pourtraicts représentés au plus près du naturel [ 4 ] .\",Quel est la répartition des poissons dans l\\'océan ?,\"{\\'text\\': \\'50% des poissons vivraient dans 17% de la surface des océans \\', \\'answer_start\\': 599}\"']\n",
      "['8,papilles,\"En  biologie  et en  anatomie , une  papille  est une petite excroissance charnue, la plupart du temps formée par un  tissu épithélial . Le terme de  papille  rapproche donc des structures dont la forme générale est le seul point commun.\",De quoi est composé une pupille ?,\"{\\'text\\': \\'un tissu épithélial\\', \\'answer_start\\': -1}\"']\n",
      "['9,animaux_de_compagnie,\"Un  animal de compagnie  est un  animal  recevant la protection de l\\' espèce humaine  en échange de sa présence, de sa beauté, de sa jovialité ou encore pour ses talents (oiseaux chanteurs, parleurs…). En raison de leur très longue présence aux côtés de l\\'espèce humaine, ces animaux familiers ont souvent fait l\\'objet d\\'une  domestication  à la suite de leur  apprivoisement . Ils se distinguent toutefois des autres cas d\\' animaux domestiques  vivant simplement dans le voisinage de la maison, comme les animaux de travail, et par opposition aux animaux de production utilisés pour leur viande, leur lait ou leurs œufs, telles les  vaches  ou les  poules . Dans les pays occidentaux, les principaux animaux de compagnie sont le  chat  et le  chien  qui, avec le  furet , sont des animaux classés comme « carnivores domestiques » et donc soumis à une  législation  particulière. Depuis les  années 1980 [ 1 ] , on désigne sous le terme « nouveaux animaux de compagnie » (NAC) des espèces qui sont entrées après les  années 1970  dans le cercle des animaux de compagnie. Certains de ces animaux, comme le  furet , le  lapin , divers  rongeurs  ou animaux de ferme, étaient domestiqués depuis longtemps, mais destinés à un autre usage. D\\'autres espèces parfois incluses dans les NAC sont en réalité des animaux de compagnie déjà très anciens comme la  perruche à collier  et la  perruche alexandre . De plus cette catégorie, très imprécise, inclus souvent des espèces qui ne sont que des animaux d\\'agrément ou d\\'observation et qui ne sont pas véritablement utilisées comme animaux de compagnie, notamment parmi les  reptiles ,  poissons d\\'aquarium ,  oiseaux  de cage ou de basse-cour, etc. Une partie de ces espèces, très diverses, ne sont d\\'ailleurs pas domestiquées puisqu\\'encore souvent prélevées directement dans la nature. La réglementation diffère d\\'un pays à l\\'autre, notamment pour les conditions d\\'acquisition, de détention, d\\'importation et d\\'exportation.\",Qu\\'est ce qui est attendu d\\'un animal de compagnie ?,\"{\\'text\\': \\'sa présence, de sa beauté, de sa jovialité ou encore pour ses talents\\', \\'answer_start\\': 100}\"']\n",
      "['10,miaulement,\" Le  miaulement  est une vocalisation émise par les  félins  et notamment les  félinés . La transcription en  onomatopée  est  miaou  en français, et est similaire dans de nombreuses langues européennes et le  mandarin .\",Quel est l\\'onomatopée du miaulement en français ?,\"{\\'text\\': \\'miaou\\', \\'answer_start\\': 127}\"']\n",
      "['11,rural,\"Pour les articles homonymes, voir  Campagne (homonymie) . La  campagne , aussi appelée  milieu rural , est l\\'ensemble des espaces  cultivés  habités et maîtrisés par l\\' homme , et s\\'oppose d\\'une part aux  espaces naturels , non  anthropisé , et d\\'autre part au milieu urbain et  périurbain  propre aux  villes  et aux grandes  agglomérations . La campagne est caractérisée par une faible densité par rapport aux pôles urbains environnant, par un paysage à dominante végétale ( champs ,  prairies ,  forêts  exploitée en  sylviculture ,  bocage ), par une activité agricole dominante, au moins par les surfaces qu\\'elle occupe et par une économie structurée plus fortement autour du  secteur primaire . Les habitants sont dits «ruraux» ou «campagnards» [ 3 ] . À l\\'échelle mondiale,  3,3 milliards  d\\'individus seraient des ruraux, soit un peu moins de la moitié de la  population mondiale . Si la campagne est caractérisée par une occupation des sols majoritairement agricole, sa population n\\'est elle pas forcément liée à l\\' agriculture . Dans les  pays développés , une partie non négligeable de la population campagnarde travaille dans les  secteurs tertiaires  et  secondaires . La campagne est alors parsemée de «districts» industriels, en plus, d\\'être parfois un espace fortement touristique. Cette fonction récréative et  aménitaire  s\\'est amplifiée par l\\'augmentation de la  mobilité spatiale  de la population, update peut se permettre d\\'habiter à la campagne et de travailler en ville: phénomène dit de  rurbanisation . Les définitions du terme «rural» varient énormément selon les époques, et selon les pays. Statistiquement, un espace est considéré comme rural quand la plus petite division administrative n\\'a pas atteint un seuil de population totale ou de  densité de population . En France, pour l\\' Insee , une  commune  est dite rurale quand elle n\\'atteint pas le seuil de 2000habitants. Ces communes rurales regroupent 25,3% de la population française. D\\'autres critères peuvent être pris en compte statistiquement pour définir l\\'espace rural, comme la part de l\\'emploi alloué aux  activités primaires  ou le manque d\\'accès à certains équipements. Plus de 39% de la population française ( 22,8 millions  de personnes) habitent dans une zone rurale ou péri-urbaine [ 4 ] . Après un lent déclin au  XX e siècle, l\\'espace rural connaît à nouveau un dynamisme démographique [ 4 ] .\",Quel terme est associé au mot rural ?,\"{\\'text\\': \\'campagne\\', \\'answer_start\\': 62}\"']\n",
      "['12,déjections,\"Cet article est une  ébauche  concernant la  biologie .  Vous pouvez partager vos connaissances en l’améliorant ( comment? ) selon les recommandations des  projets correspondants . Les  excréments  sont toutes les matières naturellement évacuées par l\\'être humain ou un autre organisme  animal , sous forme solide ou liquide ( matières fécales ,  urine ,  sueur , etc. ) [ 1 ] , correspondant à leurs  déchets métaboliques .\",Quel forme peuvent avoir les déjections ?,\"{\\'text\\': \\'forme solide ou liquide\\', \\'answer_start\\': 301}\"']\n",
      "['13,vénéré_par_les_Égyptiens,\"Le  chat  était l\\'un des nombreux animaux dont les attributs furent vénérés dans l\\' Égypte antique . Il était notamment associé au symbole de protection. Tout d\\'abord avatar du dieu  Rê  en tant que pourfendeur du serpent  Apophis , il connaîtra le sommet de son influence en tant qu\\'incarnation de la déesse  Bastet .\",Quel animal était vénéré dans l\\'Egypte antique ?,\"{\\'text\\': \\'Le chat\\', \\'answer_start\\': -1}\"']\n",
      "['14,estomac,\"Cet article  ne cite pas suffisamment ses sources   ( mars 2021 ).  Si vous disposez d\\'ouvrages ou d\\'articles de référence ou si vous connaissez des sites web de qualité traitant du thème abordé ici, merci de compléter l\\'article en donnant les  références utiles à sa  vérifiabilité  et en les liant à la section « Notes et références ». En pratique:   Quelles sources sont attendues?   Comment ajouter mes sources?  modifier  -  modifier le code  -  modifier Wikidata L\\' estomac  (en  grec ancien   στόμαχος /  stómakhos ) (aussi appelé  poche stomacale ) est la portion du  tube digestif  en forme de poche, située entre l’ œsophage  et le  duodénum . L\\'œsophage reçoit les  aliments  mâchés dans la bouche et déglutis dans l\\'estomac. Chez l’être humain, l’organe est en forme de J majuscule, à l’âge adulte il mesure 25×8×5 cm , contient  0,5 litre à vide, et peut contenir jusqu’à  4  l . L’estomac est en rapport anatomique avec le  foie  (à droite), la  rate  (à gauche), le  pancréas  (en arrière), le  diaphragme  (en haut) et les  intestins  (en bas). Il est situé au-dessus du  mésocôlon  (étage sus-mésocolique). La branche de la  médecine  qui s’occupe de l’estomac est la  gastro-entérologie . L’estomac permet d’assurer la digestion par ses fonctions mécaniques (brassage) et chimiques en mélangeant les aliments aux  sucs gastriques  ( eau ,  acide chlorhydrique ,  enzymes ). Pour une digestion idéale, le  pH  de l’estomac est compris entre 1,5 (pendant la nuit) et 5 (en début de digestion): les enzymes gastriques fonctionnent à pH acide (un pH < 7 est dit acide). Le produit de la transformation par l’estomac est une pâte, appelée  chyme  qui se déverse dans le duodénum par le pylore. C’est dans le duodénum que le chyme acide va être neutralisé par les  bases  issues de la  bile  et du  suc pancréatique . Cette neutralisation produit des sels minéraux assimilables, dont certains passent dans l’organisme directement à travers la paroi du duodénum grâce à des hormones produites par les glandes surrénales, les  minéralocorticoïdes . La durée de malaxageet debroyage dans l’estomac est variable (entre deux et quatre heures environ). [ réf. souhaitée] . Si non mélangés, certains liquides peuvent être digérés en trente à quarante-cinq minutes.\",Où se situe l\\'estomac ?,\"{\\'text\\': \\'entre l’ œsophage et le duodénum\\', \\'answer_start\\': -1}\"']\n",
      "['15,ouïe,\"Pour les articles homonymes, voir  Ouïe . Cet article  ne cite pas suffisamment ses sources   ( février 2014 ).  Si vous disposez d\\'ouvrages ou d\\'articles de référence ou si vous connaissez des sites web de qualité traitant du thème abordé ici, merci de compléter l\\'article en donnant les  références utiles à sa  vérifiabilité  et en les liant à la section « Notes et références ». En pratique:   Quelles sources sont attendues?   Comment ajouter mes sources?  L’ ouïe [ a ]  est la capacité de percevoir des  sons . Elle est l’un des cinq  sens  généralement admis.\",Que permet de percevoir l\\'ouïe ?,\"{\\'text\\': \\'des sons\\', \\'answer_start\\': -1}\"']\n",
      "['16,onyxectomie,\"L\\' onyxectomie  (du  grec   onyx , l\\'ongle), ou  dégriffage , est une  opération chirurgicale  qui consiste en l\\'ablation des  griffes . Elle se pratique notamment chez les  chats  de compagnie. Elle est illégale dans de nombreux pays et des associations de  défense des animaux  comme  PETA  condamnent cette opération, considérée comme  cruelle [ 1 ] .\",En quoi consiste le dégriffage ?,\"{\\'text\\': \"\"l\\'ablation des griffes\"\", \\'answer_start\\': -1}\"']\n",
      "['17,toucher,\"«Tact» redirige ici.  Pour le ruisseau, voir  Tact (ruisseau) . Pour les articles homonymes, voir  Toucher (aéronautique) . Le  toucher , aussi appelé  tact  ou  taction , est l\\'un des  sens  extéroceptifs de l\\'animal (dont l\\'humain), essentiel pour la survie et le développement des êtres vivants, l\\'exploration, la reconnaissance, la découverte de l\\'environnement, la locomotion ou la marche, la préhension des objets et la nutrition, le toucher d\\'un instrument de musique, la recherche de l\\'exposition solaire ou la quête d\\'un espace agréable, les contacts sociaux, la sexualité... Il existe avec des variantes dans tout le règne animal et, beaucoup moins observables du fait de l\\'immobilité apparente, végétale. Notons que certains végétaux ont également des réactions tactiles avec des temps de réponses suffisamment courts pour être observables [ 1 ] . Le toucher se confond aussi avec le contact impliquant au moins un être vivant. On a récemment montré la complexité du toucher. Chez le  fœtus humain , c\\'est le premier des cinq sens à se développer même s\\'il ne s\\'agit pas d\\'un sens indépendant des autres. Le sens  haptique  permet notamment, chez l\\'homme, de mieux connecter la  vision  et l\\' audition , et peut même significativement faciliter l\\'apprentissage de la lecture chez l\\'adulte [ 2 ] . Fait trivial souvent oublié, se toucher ou se faire toucher de façon positive est crucial pour la survie de l\\'homme. Toucher les objets et les autres êtres vivants favorise l\\'apprentissage chez l\\'enfant, jusqu\\'à faciliter l\\'apprentissage de la lecture chez l\\'enfant qui s\\'initie à la lecture, comme chez l\\'adulte apprenant une langue étrangère. Enfin, il existe un nombre gigantesque de thérapies impliquant le sens du toucher.\",Avec quoi se confond le toucher ? ,\"{\\'text\\': \\'le contact\\', \\'answer_start\\': 892}\"']\n",
      "['18,surdité,\"Cet article  doit être  recyclé   ( mars 2021 ).  Une réorganisation et une clarification du contenu paraissent nécessaires.  Améliorez-le ,  discutez des points à améliorer  ou précisez les sections à recycler en utilisant  {{section à recycler}} . Pour les articles homonymes, voir  Sourd . Ne doit pas être confondu avec  Sourds (communauté) .    Mise en garde médicale modifier  -  modifier le code  -  voir Wikidata   (aide)   La  surdité  est un  état pathologique  de l\\' audition  caractérisé par une perte partielle ou totale de la  perception  des  sons . Lorsque la perte est totale, il s\\'agit d\\'une  cophose , parfois appelée  anacousie . Le terme  hypoacousie  est quasi-synonyme de surdité, étant parfois réservé aux cas où la perte de l\\'audition est partielle. La surdité peut être classée selon le degré de perte de l\\' ouïe  et selon la localisation de l\\'atteinte. Son traitement médical est possible, par des appareillages externes ou internes (implants), quoique la récupération de l\\'audition des phonèmes de la langue puisse continuer à être altérée. La surdité qui apparaît à l\\'âge adulte peut avoir des origines médicales ou traumatiques. Elle est un handicap contre lequel certains moyens sont mis en œuvre afin d\\'aider les personnes dites sourdes ou malentendantes. Lorsqu\\'elle survient à un âge précoce et avant l\\'apprentissage du langage, la surdité peut compromettre l\\'apprentissage du langage et par conséquent l\\'apprentissage de la lecture, et entraîner de multiples problèmes associés à l\\'illettrisme et aux bas niveaux d\\'éducation. La surdité précoce nécessite une prise en charge éducative précoce offrant à l\\'enfant sourd des moyens de communication qui vont lui permettre de bien développer ses relations sociales et d\\'optimiser son développement émotionnel, cognitif et intellectuel. L\\'apprentissage de la  langue des signes  et l\\'aide à l\\'apprentissage de la langue orale par diverses méthodes de rééducation et de complément à la lecture labiales sont des méthodes validées ayant chacune des avantages démontrés, malgré leurs limites. Donc, en conclusion, la surdité est un handicap auditif. C\\'est plus précisément une perte ou une grande diminution de l\\'ouïe. Il est important de distinguer les personnes sourdes de vieillesse des autres sourds car à partir de 65 ans, la surdité est considérée comme «normale». Le terme «sourd» regroupe de nombreuses personnes atteintes de déficiences auditives différentes [ 1 ] .\",Quel type d\\'handicap est la surdité ?,\"{\\'text\\': \\'un handicap auditif\\', \\'answer_start\\': 2106}\"']\n",
      "['19,sommeil_paradoxal,\"Cet article est une  ébauche  concernant la  médecine .  Vous pouvez partager vos connaissances en l’améliorant ( comment? ) selon les recommandations des  projets correspondants . Le  sommeil paradoxal , connu également comme le sommeil REM ( Rapid Eye Movement ), fait suite au sommeil lent («sommeil à ondes lentes» désignant les stades 3 et 4), et constitue le cinquième et dernier stade d\\'un cycle du  sommeil . Une «nuit» comprend de trois à six cycles successifs d\\'une durée chacun de 90 à 120 minutes. Chez une personne normale, la durée du sommeil paradoxal occupe environ 25% de la durée d\\'une nuit, et s\\'accroît à chaque cycle jusqu\\'au réveil [ 1 ] . C\\'est la phase du sommeil au cours de laquelle les  rêves  dont on se souvient se produisent. Il se caractérise par des  mouvements oculaires rapides , d\\'où le nom anglais  Rapid Eye Movement , une  atonie  musculaire, une  respiration  et un  rythme cardiaque  irréguliers, une  température corporelle  déréglée. On observe une dilatation des organes  pelviens  et une  érection  qui, chez le mâle, peut être suivie d\\'éjaculations. L\\'activité électrique du cerveau est proche de celle de l\\'éveil, comme le montre le tracé  électro-encéphalographique . On l\\'observe non seulement chez l\\'être humain mais aussi chez la majorité des  mammifères   placentaires , chez les  oiseaux  et chez certains  reptiles  (lézards [ 2 ] ). Son déclenchement peut être observé par le placement d\\' électrodes  au niveau du  pont , du  corps géniculé  et du  cortex visuel  (parfois appelé cortex occipital).\",Qu\\'est ce que le sommeil paradoxal ?,\"{\\'text\\': \\'la phase du sommeil au cours de laquelle les  rêves  dont on se souvient se produisent\\', \\'answer_start\\': 668}\"']\n",
      "['20,Espèce,\"Cet article concerne le sens biologique du mot «espèce». Pour les autres significations, voir  Espèce (homonymie) . Dans les  sciences du vivant , l’ espèce  (du  latin   species , «type» ou «apparence») est le  taxon  de base de la  systématique . La définition le plus communément admise est celle du concept biologique [ 1 ] , [ 2 ] , [ 3 ] : une espèce est un ensemble d\\'individus qui peuvent effectivement ou potentiellement se reproduire entre eux et engendrer une descendance viable et féconde, dans des conditions naturelles. Une publication de 1997 recense cependant  22 concepts  d\\'espèces (espèce biologique, morphologique, écologique, comportementale…) dans la  littérature scientifique [ 4 ] . Ainsi, l\\'espèce est la plus grande unité de population au sein de laquelle le flux génétique est possible et les individus d\\'une même espèce sont donc génétiquement isolés d\\'autres ensembles équivalents du point de vue reproductif. En particulier, le critère d’interfécondité ne peut pas toujours être vérifié: c\\'est le cas pour les  fossiles , les  organismes   asexués  ou pour des espèces rares ou difficiles à observer. D’autres définitions peuvent donc être utilisées [ 5 ] :\",Quelles sont les origines latines du mot espèce ?,\"{\\'text\\': \\'du latin species , «type» ou «apparence»\\', \\'answer_start\\': -1}\"']\n",
      "['21,Chat_(animal),\"Pour les articles homonymes, voir  Chat (homonymie) . Taxons concernés modifier   Chat  est un terme ambigu employé en français pour désigner de nombreux  félins  de taille moyenne ou petite, appartenant à la  sous-famille  des  félinés . Employé seul, il s\\'agit du  nom vernaculaire  donné au  chat domestique  ( Felis silvestris catus ). Par  synecdoque , chat peut désigner l\\'ensemble des  félins : l\\'expression « chat sauvage » s\\'applique à plusieurs espèces ou sous-espèces de petits félins, tandis que la  sous-famille  des  Panthérinés  est parfois désignée par l\\'expression  «grands chats» .\",De quelles taille est le cha t? ,\"{\\'text\\': \\'de taille moyenne ou petite\\', \\'answer_start\\': 163}\"']\n",
      "['22,Synonymes,\"Pour les articles homonymes, voir  Synonymie . Dans la  nomenclature scientifique  du monde vivant, les  synonymes  sont des noms scientifiques différents pour désigner un même  taxon . Ils sont la conséquence des remaniements, parfois très nombreux, apportés par les scientifiques à la  classification scientifique des espèces  (genres fusionnés, sous-espèces promues au rang d\\'espèce, doublons, coquilles, etc. ). Les autorités, dates et éléments de typographie associés sont indispensables à prendre en compte pour éviter les confusions et leur interprétation varie selon les codes de nomenclature [ 1 ] . Le nom scientifique validé en dernier n\\'est pas forcément celui qui a été publié le plus récemment. Par exemple  Hyperolius viridiflavus  admet de nombreux synonymes, dont les derniers sont postérieurs à 1970, alors que le nom actuellement valide [ a ]  est « Hyperolius viridiflavus  (Duméril and Bibron, 1841)» [ 4 ] .\",Qu\\'est ce qu\\'on synonyme dans la nomenclature scientifique ?,\"{\\'text\\': \\'des noms scientifiques différents pour désigner un même taxon\\', \\'answer_start\\': -1}\"']\n",
      "['23,bas_latin,\"Cet article est une  ébauche  concernant la  Rome antique  et une  langue .  Vous pouvez partager vos connaissances en l’améliorant ( comment? ) selon les recommandations des  projets correspondants .  Le  bas latin , ou  latin tardif , est le  latin  de l’ Antiquité tardive , habituellement les versions du latin parlées du  III e  au  VI e siècle (voire jusqu\\'au  VII e siècle en Espagne).\",De quelle époque vient le bas latin ? ,\"{\\'text\\': \\'Antiquité tardive\\', \\'answer_start\\': 258}\"']\n",
      "['24,organe_de_Jacobson,\"L’ organe voméronasal  (ou  «OVN»  ou  organe de Jacobson ) est un  organe  tubulaire situé chez l\\'humain sous la surface intérieure du  nez . Chez les  mammifères , cet organe est spécialisé dans la détection des  phéromones , qui sont des  molécules  véhiculant des signaux  innés . Ces signaux permettent de réguler les comportements sociaux (comportements sexuel, parental, d\\'agression …). Suivant les espèces, il existe des différences anatomiques. Les phéromones arrivent à l\\'organe voméronasal soit par la bouche (par léchage ou  flehmen ), soit par le nez, soit par le canal nasopalatin (qui relie la bouche et le nez). Chez les  Catarrhiniens  ( Macaques ,  Babouins , et  Hominidés ), le système voméronasal est  vestigial . Chez l\\'être humain, l\\'organe voméronasal n\\'est quasiment plus fonctionnel, le  bulbe olfactif accessoire  est atrophié, et le canal nasopalatin est généralement obturé [ 1 ] .\",Où se situe l\\'organe de Jacobson ?,\"{\\'text\\': \\'sous la surface intérieure du nez\\', \\'answer_start\\': -1}\"']\n",
      "['25,pedigree,\"Pour les articles homonymes, voir  Pedigree (homonymie) . Cet article est une  ébauche  concernant la  généalogie .  Vous pouvez partager vos connaissances en l’améliorant ( comment? ) selon les recommandations des  projets correspondants . Cet article  ne cite pas suffisamment ses sources   ( février 2021 ).  Si vous disposez d\\'ouvrages ou d\\'articles de référence ou si vous connaissez des sites web de qualité traitant du thème abordé ici, merci de compléter l\\'article en donnant les  références utiles à sa  vérifiabilité  et en les liant à la section « Notes et références ». En pratique:   Quelles sources sont attendues?   Comment ajouter mes sources?  Le  pedigree  (parfois écrit  pédigrée ) est, chez les animaux, une liste d\\'ancêtres de la même  espèce  garantissant la pureté de la race. En France, pour les  chiens , on peut obtenir un extrait du  Livre des origines français  (LOF), équivalent d\\'un extrait d\\'état civil, qui certifie la  généalogie  d\\'un chien de race. Pour les chats, il s\\'agit du  Livre officiel des origines félines  (LOOF). Chez le lapin, le pedigree garantit la race aussi bien que sa pureté. Dans le langage courant, le terme «pedigree» est aussi utilisé pour tout ce qui a rapport à l\\'histoire d\\'une lignée distinguée. On s\\'en sert pour démontrer que l\\'animal vendu n\\'a aucun lien de parenté sur plusieurs générations si l\\'éleveur le désire.\",Que garantie le pédigrée ?,\"{\\'text\\': \\'la pureté de la race\\', \\'answer_start\\': 779}\"']\n",
      "['26,vue,\"Pour les articles homonymes, voir  Vue (homonymie) . La  vue  est le  sens  qui permet de réagir à l\\'environnement distant au moyen des  rayonnements lumineux . L\\' œil  est l\\'organe de la  vue , mais la vision, c\\'est-à-dire la  perception  visuelle, implique des zones spécialisées du  cerveau . Le  cortex visuel  synthétise les  influx nerveux  et les  traces mémorielles  des  expériences  visuelles passées pour identifier des formes, des  couleurs , des textures, des  reliefs . La plupart des espèces vivantes animées possèdent un sens de la vue, dont les caractéristiques, variées, dépendent de leur environnement.\",Grâce à quoi est-il possible d\\'interagir avec l\\'environnement ?,\"{\\'text\\': \\'rayonnements lumineux\\', \\'answer_start\\': 137}\"']\n",
      "['27,Prédateur,\"Pour les articles homonymes, voir  Prédateur (homonymie) . La  prédation  est l\\'action de prendre, de capturer.\",Quelle action produit un prédateur ?,\"{\\'text\\': \"\"l\\'action de prendre, de capturer\"\", \\'answer_start\\': 78}\"']\n",
      "['28,phéromones,\"Une  phéromone  (ou phérormone ou encore phérohormone) est une  substance chimique  émise par la plupart des  animaux  et certains  végétaux , et qui agit comme un message entre les individus d\\'une même  espèce  (communication intraspécifique, à l\\'opposé des  ectomones  impliquées dans la  communication interspécifique ). Ce composé  sémiochimique  transmet aux autres organismes des informations qui influencent la physiologie et les comportements (sexuel, maternel, agression,  agrégation , pistage…) [ 1 ] . Très actives, certaines phéromones agissent même en faible quantité, et elles peuvent être transportées et être détectées à plusieurs kilomètres. Chez les  mammifères  et les  reptiles , les phéromones sont principalement détectées par l\\' organe voméronasal , tandis que les  insectes  utilisent généralement leurs  antennes . À la différence des hormones  classiques  ( insuline ,  adrénaline , etc.) produites par les  glandes endocrines  et qui circulent uniquement à l\\'intérieur de l\\'organisme en participant à son  métabolisme , les phéromones sont généralement produites par des glandes exocrines, ou sécrétées avec l\\' urine , et servent de messagers chimiques entre individus. Elles peuvent être volatiles (perçues par l\\' odorat ), ou agir par contact ( composés cuticulaires  des insectes par exemple, perçues par les récepteurs gustatifs). Elles jouent un rôle primordial lors des périodes d\\'accouplement, et chez certains  insectes sociaux , telles les  fourmis  ou les  abeilles . Ces phéromones sont indispensables au bon fonctionnement du groupe. Les phéromones sexuelles des insectes contribuent à l\\'isolement reproducteur entre les espèces grâce à leur spécificité. L\\'existence des phéromones dans l\\'espèce humaine est un sujet controversé. De nombreux biais scientifiques et sociopsychologiques rendent complexe l\\'étude des effets psychologiques des odeurs, parfums ou phéromones sur les  émotions  et les comportements des humains [ 2 ] , [ 3 ] . En particulier, il est souvent très difficile de distinguer les nombreux effets olfactifs appris des véritables effets phéromonaux innés [ 4 ] . Chez l\\'humain, les structures olfactives sont  vestigiales  et les phéromones n\\'ont plus que des effets faibles [ 5 ] , [ 4 ] . Grâce aux techniques  biochimiques , il est possible de produire des phéromones de synthèse. Elles sont utilisées par l\\' industrie cosmétique , souvent dans des  parfums , avec des présentations commerciales qui suggèrent des effets sexuels et affectifs [ 6 ] , malgré l\\'absence de données expérimentales valides [ 5 ] , [ 4 ] . Des phéromones de synthèse, respectueuses de l\\'environnement, peuvent également être utilisées pour la protection des cultures comme produit de remplacement des insecticides. \",Par quoi sont produites les phéromones ?,\"{\\'text\\': \\'des glandes exocrines\\', \\'answer_start\\': 1094}\"']\n",
      "['29,Antarctique,\"Pour les articles homonymes, voir  Antarctique (homonymie) . Vous lisez un « article de qualité » labellisé en 2010.  L\\' Antarctique  (prononcé  / ɑ̃ . t a ʁ k . t i k / , ou aussi  / ɑ̃ . t a ʁ . t i k /   .mw-parser-output .prononciation>a{background:url(\"\"//upload.wikimedia.org/wikipedia/commons/8/8a/Loudspeaker.svg\"\")center left no-repeat', 'background-size:11px 11px', 'padding-left:15px', \"font-size:smaller} Écouter ), parfois appelé «le Continent Austral» ou «le Continent Blanc» [ b ] , est le  continent  le plus  méridional  de la  Terre . Situé autour du  pôle Sud , il est entouré des mers  de Ross  et  de Weddell  et, suivant les classifications, des océans  Atlantique ,  Indien  et  Pacifique  ou du seul  océan Austral . Il forme le cœur de la  région antarctique  qui inclut également les parties émergées du  plateau des Kerguelen  ainsi que d'autres territoires insulaires de la  plaque antarctique  plus ou moins proches. L'ensemble de ces territoires, qui partagent des caractéristiques écologiques communes, constitue l' écozone antarctique . Avec une  superficie  de  14 millions  de kilomètres carrés, l'Antarctique est plus petit que l' Asie , l' Afrique  ou l' Amérique \", ' seules l\\' Europe  et l\\' Océanie  sont plus petites que lui. Quelque 98% de sa surface sont recouverts d\\'une  couche de glace  d\\'une épaisseur moyenne de 1,6 km . C\\'est pourquoi la morphologie du  sous-sol  antarctique reste encore peu connue voire inconnue, alors que petit à petit se dévoile la présence de  lacs subglaciaires  et de  chaînes de montagnes   subglaciaires  comme celle de  Gamburtsev . Cette épaisseur de glace fait de l’Antarctique le continent dont l\\' altitude  moyenne est la plus élevée. L\\'Antarctique est le  continent  dont le  climat  est le plus froid, le plus sec et le plus venteux. Puisqu\\'il n\\'y tombe que peu de  précipitations , excepté sur ses parties côtières où elles sont de l\\'ordre de 200 mm/an , l\\'intérieur du continent constitue le plus grand  désert  du monde. À part les bases scientifiques, il n\\'y a pas d\\'habitat humain permanent et l\\'Antarctique n\\'a pas de population autochtone connue. Seuls des plantes et des animaux adaptés au  froid , au manque de  lumière  et à l\\' aridité  y vivent, comme des  manchots , des  phoques , des  poissons , des  crustacés , des  mousses , des  lichens  et de nombreux types d\\' algues . Le nom «Antarctique» vient du grec  ἀνταρκτικός /  antarktikós , qui signifie «opposé à l\\' Arctique ». Bien que des mythes et des spéculations concernant une  Terra Australis  («Terre Australe») remontent à l\\' Antiquité , le continent n\\'est aperçu pour la première fois – de façon attestée – qu\\'en 1819 par le navigateur britannique  William Smith . Cette découverte suscita un vif intérêt de la part des chasseurs de phoques européens et américains qui affluèrent sur les côtes antarctiques dans les années qui suivirent et s\\'employèrent à décimer une population de plusieurs millions d\\'individus [ c ]  au point de parvenir pratiquement à son extinction en 1830. De 1895 à 1922, de  nombreuses expéditions sont menées  par les Européens, Américains, Australiens et Japonais afin de parvenir au pôle Sud. À la suite du  traité sur l\\'Antarctique  signé en  1959  par douze États et suivi en  1991  par le  protocole de Madrid , l\\'ensemble des territoires situés au sud du  60 e  parallèle sud  acquiert un statut particulier: les activités militaires y sont interdites ainsi que l\\'exploitation des ressources minérales sauf celles qui sont menées à des fins scientifiques. Les signataires accordent la priorité aux activités de recherche scientifique. Les expériences en cours sont effectuées par plus de 4000scientifiques de diverses nationalités et ayant des intérêts différents. Considéré comme une  réserve naturelle , le continent est protégé par la  Convention sur la conservation de la faune et la flore marines de l\\'Antarctique  (CCAMLR) et divers accords internationaux sur la protection de la  biodiversité  et sur la restriction du  tourisme . Modeste ressource jusque dans les années 1980, le tourisme attire de plus en plus de visiteurs: 10000 en 2000, 37000 en 2010, 74000 en 2019 soit 14 fois plus de touristes que de scientifiques présents. La majorité des touristes se concentre durant l\\'été à proximité de la  péninsule Antarctique . Depuis 1991, des mesures de régulation et de protection ont été prises. L\\' Association internationale des voyagistes antarctiques  (IAATO), qui regroupe 80% des  voyagistes  opérant sur ce continent, a établi un code de conduite, prône un tourisme éducatif et coopère avec les scientifiques en mettant à leur service la logistique et les moyens de transport. Aussi les États se sont inspirés de ses travaux et données pour élaborer un code international très contraignant.\",Où se situe l\\'Antarctique ?,\"{\\'text\\': \\'autour du pôle Sud\\', \\'answer_start\\': -1}\"']\n",
      "['30,chats_harets,\"Le  chat haret , ou  chat errant , est un  chat domestique  (petit  félin  de la  sous-espèce   Felis silvestris catus ), retourné à l\\' état sauvage  ou  semi-sauvage , par le phénomène du  marronnage . Il a pu vivre en compagnie d\\' êtres humains  au cours de son existence, avant de fuir ou d\\'être abandonné, ou bien être né loin d\\'eux, en étant issu d\\'une lignée dont le retour à l\\'état sauvage remonte à plusieurs générations. De sorte que la différence entre le chat haret et le chat domestique proprement dit n\\'est pas  génétique , mais uniquement  éthologique , c\\'est-à-dire liée à son mode de vie. Le chat haret ne doit donc pas être confondu avec les autres sous-espèces, naturelles, du  Chat sauvage  ( Felis silvestris ), comme le  Chat sauvage d\\'Europe  ( Felis silvestris silvestris ) ou le  Chat sauvage d\\'Afrique  ( Felis silvestris lybica ), ni avec les autres  espèces appelées  chat . Dans certains pays, où le chat n\\'est pas une espèce d\\'origine indigène, les populations de chats harets ont proliféré', ' ils représentent en  Australie  une population évaluée entre 2,1et 6,3millions de chats fin 2016  [ 1 ] , [ 2 ] , qui pose de graves problèmes environnementaux.\",A quoi est lié la différence entre le chat haret et le chat domestique ?,\"{\\'text\\': \\'éthologique\\', \\'answer_start\\': 554}\"']\n",
      "['31,City_University_of_London,\"modifier  -  modifier le code  -  modifier Wikidata City, University of London  est une  université britannique  publique située à  Londres  ( Angleterre ), dans le quartier  Clerkenwell , et fondée en  1894 .En  septembre 2016 , City a rejoint  University of London  (UOL) [ 1 ] .\",Quand a été fondée la City Université of London ?,\"{\\'text\\': \\'en 1894\\', \\'answer_start\\': -1}\"']\n",
      "['32,race,\"«Racial» redirige ici. Pour l’article homophone, voir  Rassial . Cet article concerne le concept de race en zoologie. Pour les articles homonymes, voir  race (homonymie) . Pour l\\'application du concept à l\\'espèce humaine, voir  race humaine . Chez les  animaux domestiques , la  race  est un  rang taxinomique  informel, inférieur à l\\' espèce . Les races et les  sous-races  sont distinguées à des fins d\\' élevage  et de  sélection . On parle ainsi de races  bovines ,  canines ,  félines , ou  caprines . Les  taxons  au rang de race n\\'ont pas de  noms scientifiques  internationaux [ 1 ] , leur circonscription  taxinomique  repose généralement sur des critères subjectifs et pratiques (notamment utilisés pour la désignation commerciale) [ 2 ] . Ces variations sont généralement très faibles pour les races sélectionnées afin de veiller à un certain standard, dont on exige par exemple des prestations particulières pour satisfaire de façon optimale à un but d\\'utilisation. Par contre, la variabilité peut être très importante entre races géographiques. Il s\\'agit d\\'un concept lié à l\\'aspect commercial davantage que scientifique. Cet article concerne plus particulièrement l\\'acception du mot «race» pour désigner des groupes d\\'une même espèce animale. En  nomenclature botanique et mycologique  où le terme de «race» n\\'est pas un rang taxinomique  codifié , on parle de  variété  ou de  sous-espèce [ 3 ] . Il reste cependant possible d\\'utiliser le mot de «variété animale» [ 4 ]  domestique pour désigner une population animale sélectionnée constituée d\\'une fraction des animaux d\\'une espèce que des traitements particuliers de sélection ont eu pour effet de distinguer des autres animaux de l\\'espèce par un petit nombre de caractères dont l\\'énumération définit le modèle. En  microbiologie  et en  virologie , on parle plutôt de  souche  afin de désigner au sein d\\'une même espèce microbienne, une population divergeant du reste de l\\'espèce sur un ou quelques traits différentiels (ex.: une souche de  Escherichia coli  pathogène pour l\\'homme, alors que la majorité des populations de cette espèce ne le sont pas). Pour les espèces naturelles, les termes sous-espèce ou  population  (selon la divergence et le groupe considéré) sont utilisés [réf.nécessaire] . L\\'utilisation de critères biologiques prétendant définir différentes «races» humaines au sein de l\\' espèce humaine  soulève des questions  éthiques  et même logique (on ne vend pas aujourd\\'hui les hommes dans les pays développés et une désignation commerciale y est donc sans objet). Les controverses sur ce sujet ne sont pas développées ici mais dans l\\'article  Race humaine .\",Dans quel but sont distinguées les races et les sous-races ?,\"{\\'text\\': \"\"à des fins d\\' élevage et de sélection\"\", \\'answer_start\\': -1}\"']\n",
      "['33,oiseau,\"Aves Vous lisez un « article de qualité » labellisé en 2008. «Aves» redirige ici. Pour les autres significations, voir  Aves (homonymie) . Pour les articles homonymes, voir  Oiseau (homonymie) . Classe Sous-classes  de rang inférieur Les  Oiseaux  ( Aves ) sont une  classe  de  Vertébrés   tétrapodes  caractérisée par la  bipédie , des  ailes , un  plumage  et un  bec  sans dents. Survivants de l\\' extinction Crétacé-Paléogène , les oiseaux modernes ( Neornithes ) sont les seuls représentants actuels des  dinosaures   théropodes , tandis que tous les autres groupes de Dinosaures sont  éteints . Les  crocodiliens  constituent aujourd’hui les plus proches parents des oiseaux.  L\\' histoire évolutive des oiseaux  fait de ces animaux de petite taille apparus au  Jurassique moyen  les  descendants directs  des  dinosaures à plumes  pourvus d\\' ailes , d\\'où leur position dans le clade des dinosaures. Les analyses  cladistiques  actuelles les lient aux dinosaures  saurischiens , parmi ceux-ci à l\\'ensemble des  théropodes  (carnivores bipèdes) et, parmi les nombreux sous-clades qui le composent, au groupe des  coelurosauriens   Maniraptora . Au sein des maniraptoriens, tous les oiseaux sont rassemblés dans le clade des  Avialae  qui forme, avec ses deux groupes-frères, les  Troodontidae  et les  Dromaeosauridae , le groupe des  Paraves  (les «presque oiseaux»). La miniaturisation rapide de cette lignée de dinosaures à plumes, en une cinquantaine de millions d’années, est probablement liée à l’évolution accélérée des nouveautés anatomiques (formation d’ailes et d’un plumage complexe, fusion des clavicules en  furcula , développement du sternum en  bréchet  essentiel au  vol battu , redistribution de la masse du corps) qui leur ont permis de coloniser de nouveaux  habitats  dans les arbres, sources de nourriture et abri contre les prédateurs [ 1 ] . S\\'il existe, en 2020-2021, autour de 10 700 [ 2 ]  à 11150espèces d\\'oiseaux recensées [ 3 ]  (dont 9700 espèces  sauvages  réunissant entre 50 et 430milliards d\\'individus [ 4 ] , et dont plus de la moitié sont des  passereaux [ a ] ), très différentes tant par leur  écologie  que par leurs  comportements , chacune d\\'elles présente un ensemble commun de caractéristiques évidentes permettant de les regrouper, en particulier des écailles cornées et des  plumes , une mâchoire sans dents enveloppée d\\'un étui corné formant un bec, une queue osseuse courte, des membres antérieurs transformés en ailes (fonctionnelles ou non, cette caractéristique étant particulièrement rare chez les vertébrés [ b ] ) et des membres postérieurs qui servent seuls normalement à la progression sur le sol ou dans l\\' eau . En outre, ils sont tous  ovipares , c\\'est-à-dire qu\\'ils pondent des  œufs  entourés d\\'une fine  coquille  dure, et ils sont tous  homéothermes  permanents [ c ] . Au début du  XXI e siècle, 12% des espèces d\\'oiseaux sont reconnues en danger par l\\' UICN . Au moins 40% des espèces connaissent une  baisse de leur population . Les principales causes de la disparition des oiseaux sont l\\'effondrement des populations d\\'insectes, une ressource alimentaire importante, la perte d\\'habitat et l\\'usage généralisé des pesticides [ 5 ] . L\\' anatomie  et la  physiologie  de la majorité des oiseaux tendent à favoriser au maximum leur capacité à  voler : réduction de poids ( colonne vertébrale  caractérisée par le nombre élevé de  vertèbres  fusionnées en une pièce osseuse unique et très solide, le  synsacrum ', ' absence de vessie, d\\'ovaire droit fonctionnel, peau dépourvue de glandes tégumentaires à l\\'exception de la  glande uropygienne , allègement du  squelette  par des os  pneumatiques , réduction de la musculature ventrale et dorsale). Le corps aérodynamique et une forte musculature pectorale sont également des facteurs favorables au vol. Enfin un  métabolisme  très actif favorisé par une nourriture énergétique et un  appareil respiratoire  efficace par la présence de  sacs aériens  leur permettent de produire la puissance élevée et durable nécessitée par le vol. La  spéciation  de l\\'avifaune terrestre a cependant donné naissance à quelques  oiseaux inaptes au vol  ( Struthioniformes ,  manchots , etc.). Cosmopolites , les oiseaux peuplent tous les milieux, des glaces de l\\'Antarctique aux forêts équatoriales et aux déserts. Cette répartition a été rendue possible grâce à des adaptations anatomiques, physiologiques et comportementales (en particulier le  phénomène migratoire ) variées. Cette  plasticité phénotypique  se retrouve également au niveau de la gamme de taille qui va du  Colibri d\\'Elena  faisant 5 cm  à l\\' Autruche d’Afrique  pouvant atteindre 2,75 m  de hauteur. Les oiseaux et les mammifères regroupent certaines des espèces qui ont les meilleurs résultats dans les tests d\\' intelligence animale , avec les  perroquets  et les  corvidés  qui ont la faculté d\\' utiliser des outils . Toutes ces caractéristiques sont étudiées par les  ornithologues .\",Quelles sont les caractéristique des oiseaux ?,\"{\\'text\\': \\'la bipédie , des ailes , un plumage et un bec sans dents\\', \\'answer_start\\': -1}\"']\n",
      "['34,glandes_sudoripares,\"Cet article est une  ébauche  concernant l’ anatomie .  Vous pouvez partager vos connaissances en l’améliorant ( comment? ) selon les recommandations des  projets correspondants . Les  glandes sudoripares  ou  glandes sudorales  sont des annexes cutanées ( organes microscopiques  spécialisés) qui sécrètent la  sueur  et, pour certaines d\\'entre elles, des  hormones  ou  phéromones . Histologiquement, il s\\'agit de  glandes exocrines  ( épithéliums  cubiques bistratifiés) dont la fonction première est la  transpiration . On distingue chez les mammifères trois types de glandes sudoripares: les glandes eccrines, les glandes apocrines et les glandes sébacées. Ces deux dernières constituent les deux principaux types.\",Quelle est la fonction première des glandes sudoripares ?,\"{\\'text\\': \\'la transpiration\\', \\'answer_start\\': -1}\"']\n",
      "['35,carnivore,\"Pour les articles homonymes, voir  Carnivore (régime alimentaire)  et  Carnivore domestique . Ordre Sous-ordres  de rang inférieur Les  Carnivores  ( Carnivora ) sont un  ordre  de  mammifères   placentaires  du  super-ordre  des  Laurasiathériens . Ils se distinguent par une  mâchoire  et une  denture  qui leur permet de chasser et de manger d\\'autres animaux. Une des  synapomorphies  qui caractérisent les Carnivores est la présence d\\'une  carnassière . Les  canines  sont transformées en crocs. Leur cerveau est de type  gyrencéphale . Cet ordre est composé majoritairement d\\'animaux rapides au  régime alimentaire   carnivore  (chair crue), bien qu\\'il existe certains membres qui n\\'ont pas ce régime, tels le  panda géant  qui est  herbivore  et des  omnivores  opportunistes comme le  Renard roux  ou le  Binturong  qui est principalement  frugivore . D\\'autre part, les  mammifères  carnassiers ne sont pas tous forcément membres de cet ordre. On peut ainsi citer, par exemple, le  dasyure , le  thylacine , ou le  diable de Tasmanie , qui sont tous trois des  marsupiaux , ou bien certains  cétacés  tels que l\\' orque  ou le  grand cachalot .\",Quelle est la forme des canines des carnivores ?,\"{\\'text\\': \\'en crocs\\', \\'answer_start\\': 490}\"']\n",
      "['36,robe,\"Pour les articles homonymes, voir  Robe . Cet article est une  ébauche  concernant la  zoologie .  Vous pouvez partager vos connaissances en l’améliorant ( comment? ) selon les recommandations des  projets correspondants . La  robe  d\\'un  animal  consiste en la nature et la qualité de sa  peau  ou de sa  pilosité .  La robe d\\'un animal, ou pelage, est une caractéristique complexe avec des bases scientifiques. La couleur est influencée par des pigments comme la mélanine et la phéomélanine.   La structure des poils varie, affectant la texture, et la fonction du pelage inclut l\\'isolation thermique, la camouflage et la protection. Les cycles de mue s\\'adaptent aux saisons, l\\'adaptation écologique peut influencer l\\'épaisseur du pelage, et la variabilité génétique, identifiée par des études, contribue à des différences intra et interspécifiques. Chez les  mammifères  de compétition, l\\'état de la robe est jugé en plusieurs catégories. Ces catégories peuvent inclure les  poils  longs ( jarre ), portant les marques de la robe et les poils plus courts ( bourre  ou  duvet )  [ 1 ] .La robe indique la qualité de l\\' élevage . Souvent, la robe est un facteur indispensable pour reconnaître une espèce ou une race.\",Par quel pigments est influencé la couleur de la robe ?,\"{\\'text\\': \\'la mélanine et la phéomélanine\\', \\'answer_start\\': 462}\"']\n",
      "['37,Australie,\"Cet article possède des  paronymes , voir  Austrasie  et  Australasie .  L\\'Australie désigne un État, mais aussi un  territoire géographique , un  continent géologique  et sa  principale étendue de terre . Cet article traite principalement de l’ État d\\'Australie . Commonwealth d\\'Australie (en)  Commonwealth of Australia 35°15′S, 149°08′E modifier   L\\' Australie , en forme longue le  Commonwealth d\\'Australie  (en  anglais :  Australia  et  Commonwealth of Australia ), est un  pays  d\\' Océanie , situé entre les océans  Pacifique  et  Indien . Elle comprend la  partie continentale  du  continent australien , l\\'île de  Tasmanie  ainsi que de  nombreuses petites îles . Elle est entourée par l\\' Indonésie , le  Timor oriental  et la  Papouasie-Nouvelle-Guinée  au nord, les  îles Salomon , le  Vanuatu  et la  Nouvelle-Calédonie  au nord-est et la  Nouvelle-Zélande  au sud-est. L\\'État le plus proche de l\\'Australie est la  Papouasie-Nouvelle-Guinée , toutes deux séparées par le  détroit de Torrès , large en son point le plus étroit de seulement 40 km . Avec une superficie de 7741200 km 2 , l\\'Australie est le plus grand pays d\\'Océanie et le  sixième plus grand pays du monde . Son territoire continental est plat et sec, avec des  sols  peu fertiles. L\\'Australie est un  pays mégadivers  et sa taille lui confère une grande variété de  paysages  et de  climats , avec des  déserts  au  centre , des  forêts tropicales humides  au nord-est et des  chaînes de montagnes  au sud-est. Le territoire australien a d\\'abord été habité par des  peuples aborigènes , dont les  premiers peuplements  sont arrivés d\\' Asie du Sud-Est  il y a environ 50000ans, au cours de la  dernière période glaciaire . L\\' exploration maritime  du territoire par les Européens commence au début du  XVII e siècle. En 1606, le navigateur  néerlandais   Willem Janszoon  devient le premier Européen à atteindre la partie continentale de l\\'Australie. En  1770 , l\\'explorateur  britannique   James Cook  cartographie et revendique la côte est pour la  Grande-Bretagne . Le  26 janvier 1788 , la  Première flotte  de navires britanniques arrive à  Sydney Cove  pour établir la  colonie   pénitentiaire  de  Nouvelle-Galles du Sud . Au cours des décennies suivantes, les Britanniques colonisent des terres qu\\'ils considèrent comme  terra nullius , mais qui mènent aux  guerres de la frontière  décimant les populations autochtones d\\'Australie, qui comptaient jusque-là 300000 à un million d\\'individus. Au moment de la  ruée vers l\\'or  des années 1850, cinq autres  colonies  ont été établies. Des parlements démocratiques sont progressivement instaurés au cours du  XIX e siècle, culminant avec un  vote  en faveur de la  Fédération  des six colonies le  1 er  janvier 1901 , pour former le Commonwealth d\\'Australie. Depuis, l\\'Australie maintient un système politique stable de type  démocratie libérale  ainsi qu\\'une riche  économie de marché . Politiquement, l\\'Australie est une  monarchie constitutionnelle   parlementaire   fédérale , constituée de  six États et dix territoires . Le  roi , représenté par le  gouverneur général , agit comme  chef d\\'État  et le  Premier ministre  agit comme  chef du gouvernement . Sa capitale est  Canberra , tandis que sa ville la plus peuplée et son centre financier est  Sydney . Ses autres  grandes villes  sont  Melbourne ,  Brisbane ,  Perth  et  Adélaïde . Sa  population , estimée à près de 26 millions d\\'habitants en 2021, est en majorité  blanche , mais elle comporte également plusieurs minorités raciales, depuis la fin de la  politique de l\\'Australie blanche  en 1973. Elle est fortement  urbanisée  et est majoritairement concentrée sur la côte est. Aujourd\\'hui, les  immigrés  représentent 30% de la population du pays. L\\'Australie est un  pays développé  avec une économie à revenu élevé. Ses ressources naturelles abondantes et ses relations commerciales internationales développées sont essentielles pour son  économie , qui génère des revenus à partir des  services , des  exportations minières , de la  banque , de l\\' industrie manufacturière , de l\\' agriculture  et de l\\' éducation  internationale. En 2022, l\\'Australie est la  douzième économie mondiale  avec le  neuvième revenu par habitant  le plus élevé. L\\'Australie est une  puissance régionale  et possède la  treizième plus grande dépense militaire  au monde. L\\'Australie figure en haut des classements internationaux en termes de qualité de vie, de  démocratie , de santé, d\\'éducation, de  liberté économique , de  libertés publiques , de  sécurité  et de droits politiques. En  2017 , elle est classée au  cinquième rang  de l\\' indice de développement humain . En 2023, elle est classée en  24 e position pour l\\' indice mondial de l\\'innovation [ 6 ] . Plusieurs de ses grandes villes figurent dans les  classements des villes les plus agréables à vivre . L\\'Australie est membre de plusieurs organisations internationales, dont l\\' ONU , le  G20 , l\\' OCDE , l\\' OMC , l\\' ANZUS , l\\' AUKUS , le  FVEY , le  Quad , l\\' APEC , le  Forum des îles du Pacifique , la  Communauté du Pacifique  et le  Commonwealth .\",Quel  pays est le plus grand pays d\\'Océanie et le  sixième plus grand pays du monde ?,\"{\\'text\\': \"\"l\\'Australie\"\", \\'answer_start\\': 907}\"']\n",
      "['38,espèce,\"Cet article concerne le sens biologique du mot «espèce». Pour les autres significations, voir  Espèce (homonymie) . Dans les  sciences du vivant , l’ espèce  (du  latin   species , «type» ou «apparence») est le  taxon  de base de la  systématique . La définition le plus communément admise est celle du concept biologique [ 1 ] , [ 2 ] , [ 3 ] : une espèce est un ensemble d\\'individus qui peuvent effectivement ou potentiellement se reproduire entre eux et engendrer une descendance viable et féconde, dans des conditions naturelles. Une publication de 1997 recense cependant  22 concepts  d\\'espèces (espèce biologique, morphologique, écologique, comportementale…) dans la  littérature scientifique [ 4 ] . Ainsi, l\\'espèce est la plus grande unité de population au sein de laquelle le flux génétique est possible et les individus d\\'une même espèce sont donc génétiquement isolés d\\'autres ensembles équivalents du point de vue reproductif. En particulier, le critère d’interfécondité ne peut pas toujours être vérifié: c\\'est le cas pour les  fossiles , les  organismes   asexués  ou pour des espèces rares ou difficiles à observer. D’autres définitions peuvent donc être utilisées [ 5 ] :\",Chez qui le critère l\\'interfécondité ne peut pas toujours être vérifié ?,\"{\\'text\\': \\'les  fossiles , les  organismes   asexués  ou pour des espèces rares ou difficiles à observer\\', \\'answer_start\\': 1036}\"']\n",
      "['39,vieillissement,\"Le  vieillissement  est l\\'ensemble des modifications fonctionnelles diminuant progressivement l\\'aptitude d\\'un objet, d\\'une information ou d\\'un organisme à assurer ses fonctions dans le temps. Dans le cas d\\'un  organisme vivant  ( être humain  par exemple), la plupart des cellules et organes ont une durée de vie maximale génétiquement programmée, mais ce processus peut être accéléré par divers stress subis  in utero  ou durant la vie - qui conduisent le plus souvent [ 1 ]  cet organisme à ne plus assurer son équilibre  physiologique , ce qui le mène à la  mort . Chez l\\' Homme , le vieillissement est un processus complexe, lent et progressif, qui implique divers facteurs biologiques, psychologiques et sociaux. Ces facteurs sont en partie  génétiques  (vieillissement intrinsèque), et pour partie liés à l\\'histoire de vie de chacun (facteurs externes de vieillissement, acquis ou subis). Le vieillissement de certaines cellules commence dès la naissance, voire  in utero . Chez l\\'Homme, par convention, on parle de vieillissement à partir d\\'un certain âge (l’âge «mûr»), avant de différencier le  3 e âge (65 – 89 ans) du  4 e âge ou grand âge (> 90 ans). Sur le plan médical, les définitions chronologiques sont reléguées au second plan au profit de celles tenant compte du niveau de dépendance du sujet âgé. L\\'étude de la vieillesse et du vieillissement humain est la  gérontologie  (terme formé sur le mot  grec   geron, gerontos , «vieillard»). La  médecine  de la vieillesse est la  gériatrie .\",Comment s\\'appelle l\\'étude de la vieillesse et du vieillissement humain ?,\"{\\'text\\': \\'la  gériatrie\\', \\'answer_start\\': 1491}\"']\n",
      "['40,griffes,\"Pour les articles homonymes, voir  Griffe . Une  griffe  est un élément pointu et courbé trouvé au bout des pattes ou doigts de certains  mammifères , des  oiseaux  et de certains  reptiles . Quelque part, une structure crochue similaire peut être trouvée chez les  arthropodes  tels que les  scarabées  ou les  araignées .  Les pinces des crabes et langoustes sont souvent nommées «griffes». [réf.nécessaire] \",Chez quels espèces les griffes se trouvent au bout des pattes ou doigts ?,\"{\\'text\\': \\'certains  mammifères , des  oiseaux  et de certains  reptiles\\', \\'answer_start\\': 128}\"']\n",
      "['41,castré,\"La  castration  est l\\'annihilation (avec ou sans  ablation ) des organes reproducteurs de végétaux ou d\\'animaux,  humains  compris. Dans le cas des humains, la castration est considérée comme une  mutilation génitale  et est illégale dans la plupart des pays du monde. On la distingue de l\\'ablation  chirurgicale  des  testicules  et des  ovaires  — orchidectomie  ou encore  orchiectomie  pour les mâles et  ovariectomie  ou  oophorectomie  pour les femelles— qui peut être nécessaire pour des raisons  thérapeutiques  et de la  castration chimique . La castration concerne dans le règne animal l\\'ablation des testicules (chez les mâles) et l\\'ablation des ovaires (chez les femelles), l\\'ablation de la verge étant appelée  pénectomie  et  clitoridectomie  pour le  clitoris . L\\'ablation de la  verge  et des  testicules  est une émasculation.\",Comment s\\'intitule l\\'ablation de la verge et des testicules ?,\"{\\'text\\': \\'une émasculation\\', \\'answer_start\\': 826}\"']\n",
      "['42,odorat,\"L\\' olfaction  ou l\\' odorat  est le  sens  qui permet d\\'analyser les  substances chimiques   volatiles  ( odeurs ) présentes dans l’air. L\\'olfaction est un sens vital pour de nombreuses espèces [ 1 ] ', ' il est par exemple utile ou nécessaire pour les activités de recherche alimentaire (chasse, recherche de végétaux appétents, etc. ), l’évitement des  prédateurs , la localisation du lieu de nidification, ponte, reproduction, mise bas, etc. , pour la reconnaissance et le marquage du territoire, pour la communication entre individus par messages olfactifs, pour la recherche de partenaires sexuels, et pour la pollinisation des fleurs, etc.  Ce sens est moins utilisé chez l’ être humain  que chez de nombreux  mammifères  pour lesquels il est prépondérant, néanmoins, l\\' odeur personnelle  semble encore jouer un ou plusieurs rôles chez l\\'humain en termes de  communication non verbale [ 2 ] , à plusieurs âges de la vie, avec des nuances notamment selon le sexe (Homme/Femme) [ 3 ] , selon l\\'âge ou selon les contextes socio-culturels [ 4 ] , [ 5 ] . L\\' olfactique  est la science du langage des odeurs et de leur rôle dans cette communication non verbale [ 6 ] .\",Quel est le deuxième nom pour qualifier l\\'olfaction ?,\"{\\'text\\': \"\"l\\' odorat\"\", \\'answer_start\\': 17}\"']\n",
      "['43,organe_vestibulaire,\"Le  système vestibulaire  est un  organe sensoriel  situé dans l’ oreille interne  qui contribue à la sensation de mouvement et à l’ équilibre  chez la plupart des mammifères.Il est constitué d’un organe sensoriel périphérique composé du labyrinthe postérieur (canaux semi-circulaires, utricule et saccule), du  nerf vestibulocochléaire  et de ses noyaux encéphaliques. Les signaux sensoriels issus du système vestibulaire sont principalement envoyés aux structures neuronales qui commandent certains mouvements oculaires et muscles dans une optique posturale (maintien du corps dans son environnement). Les troubles du système vestibulaire peuvent conduire à des  vertiges  qui peuvent être pris en charge par kinésithérapie spécialisée. On peut comparer l’oreille interne à une  centrale inertielle .\",A quoi peut-on comparer l\\'oreille interne ?,\"{\\'text\\': \\'à une  centrale inertielle\\', \\'answer_start\\': 774}\"']\n",
      "['44,habitats,\"Pour les articles homonymes, voir  Habitat . L\\' habitat  est un concept utilisé dans le domaine de l\\' écologie . Un habitat réunit l\\'ensemble des  êtres vivants  et leurs  interactions  ( biocénose ) et l\\'ensemble des éléments physiques ou chimiques ( biotope ). Certaines  espèces clés ou facilitatrices  jouent un rôle dans la création et l\\'entretien de l\\'habitat ( coraux  pour les  récifs coralliens  par exemple). L\\'habitat est aussi un ensemble d\\'éléments de l\\' écologie du paysage  qui constituent l\\' environnement biophysique  et offrent les  ressources naturelles  suffisantes pour permettre à une population d\\'une espèce de vivre et se reproduire normalement sur ce territoire. Certains auteurs estiment qu\\'un habitat (parce qu\\'il évolue) n\\'implique pas une viabilité à long terme pour l\\'espèce qui y vit, mais au moins une viabilité à court terme [ 1 ] . La notion d\\'habitat est utilisée pour décrire (et éventuellement cartographier) l\\'endroit et les caractéristiques du «milieu» dans lequel une  population  d\\'individus d\\'une espèce donnée (ou d\\'un groupe d\\'espèces  symbiotes  ou vivant en  guilde ) peut normalement vivre et s\\'épanouir. Il faudrait plutôt parler de  l\\'habitat d\\'une population  plutôt que d\\'une espèce ou d\\'un «organisme», car s\\'il est par exemple possible de décrire précisément l\\'habitat d\\'un seul  ours dans les Pyrénées , l\\'espèce  Ursus arctos  devrait être constituée d\\'une « métapopulation » divisée en nombreux groupes d\\'individus (sous-populations) vivant dans des habitats plus variés que ceux dans lesquels les derniers individus de cette espèce tentent de survivre', ' cette espèce était autrefois commune dans toute l\\'Europe, des littoraux aux basses-montagnes. En ce qui concerne les  biotopes , les Pyrénées ne sont en rien représentatives de l\\'habitat optimal. Ils ne constituent que leur dernier refuge, celui où ils ont été le moins traqués et chassés. [réf.nécessaire] \",Dans quel domaine est utilisé le concept d\\'habitat ?,\"{\\'text\\': \"\"l\\' écologie\"\", \\'answer_start\\': 99}\"']\n",
      "['45,nuque,\"Cet article est une  ébauche  concernant l’ anatomie  et la  médecine .  Vous pouvez partager vos connaissances en l’améliorant ( comment? ) selon les recommandations des  projets correspondants . La  nuque  est la partie postérieure du  cou , située au-dessous de l\\' occiput . Elle correspond à la partie dorsale du cou, c\\'est-à-dire la région du cou située en arrière d\\'un plan frontal passant par les processus transverses des  vertèbres cervicales . Ces dernières vertèbres y sont recouvertes par les  muscles trapèzes .\",Ou se situe la partie dorsale du cou ?,\"{\\'text\\': \"\"en arrière d\\'un plan frontal passant par les processus transverses des vertèbres cervicales\"\", \\'answer_start\\': -1}\"']\n",
      "['46,2006,\" Cette page concerne l\\'année  2006  (MMVI en chiffres romains) du  calendrier grégorien .  Pour le nombre 2006, voir  2006 (nombre) . Afrique du Sud ,  Algérie ,  Angola ,  Bénin ,  Botswana ,  Burkina Faso ,  Burundi ,  Cameroun ,  Cap-Vert ,  République centrafricaine ,  Comores ,  République du Congo ,  République démocratique du Congo ,  Côte d\\'Ivoire ,  Djibouti ,  Égypte ,  Érythrée ,  Éthiopie ,  Gabon ,  Gambie ,  Ghana ,  Guinée ,  Guinée-Bissau ,  Guinée équatoriale ,  Kenya ,  Lesotho ,  Liberia ,  Libye ,  Madagascar ,  Malawi ,  Mali ,  Mauritanie ,  Maurice ,  Maroc ,  Mozambique ,  Namibie ,  Niger ,  Nigeria ,  Ouganda ,  Rwanda ,  Sahara occidental ,  Sao Tomé-et-Principe ,  Sénégal ,  Seychelles ,  Sierra Leone ,  Somalie ,  Soudan ,  Soudan du Sud ,  Swaziland ,  Tanzanie ,  Tchad ,  Togo ,  Tunisie ,  Zambie  et  Zimbabwe  Antigua-et-Barbuda ,  Argentine ,  Bahamas ,  Barbade ,  Belize ,  Bolivie ,  Brésil ,  Canada   ( Alberta ,  Colombie-Britannique ,  Manitoba ,  Nouvelle-Écosse ,  Nouveau-Brunswick ,  Nunavut ,  Ontario ,  Québec ,  Saskatchewan ,  Terre-Neuve-et-Labrador ,  Territoires du Nord-Ouest  et  Yukon ) ,  Chili   () ,  Colombie ,  Costa Rica ,  Cuba ,  République dominicaine ,  Dominique ,  Équateur ,  États-Unis ,  Grenade ,  Guatemala ,  Guyana ,  Haïti ,  Honduras ,  Jamaïque ,  Mexique ,  Nicaragua ,  Panama ,  Paraguay ,  Pérou ,  Saint-Christophe-et-Niévès ,  Saint-Vincent-et-les-Grenadines ,  Sainte-Lucie ,  Salvador ,  Suriname ,  Trinité-et-Tobago ,  Uruguay  et  Venezuela  Abkhazie ,  Afghanistan ,  Arabie saoudite ,  Arménie ,  Azerbaïdjan ,  Bahreïn ,  Bangladesh ,  Bhoutan ,  Birmanie ,  Brunei ,  Cambodge ,  Caucase ,  Chine ,  Chypre ,  Corée du Nord ,  Corée du Sud ,  Émirats arabes unis ,  Géorgie ,  Inde ,  Indonésie ,  Irak ,  Iran ,  Israël ,  Japon ,  Jordanie ,  Kazakhstan ,  Kirghizistan ,  Kurdistan ,  Koweït ,  Laos ,  Liban ,  Malaisie ,  Maldives ,  Mongolie ,  Népal ,  Oman ,  Ossétie du Sud-Alanie ,  Ouzbékistan ,  Pakistan ,  Palestine  () ,  Philippines ,  Proche-Orient ,  Qatar ,  Russie  () ,  Singapour ,  Sri Lanka ,  Syrie ,  Tadjikistan ,  Taïwan ,  Thaïlande ,  Timor oriental ,  Turkménistan ,  Turquie ,  Viêt Nam  et  Yémen  Abkhazie ,  Allemagne ,  Albanie ,  Andorre ,  Arménie ,  Autriche ,  Azerbaïdjan ,  Belgique ,  Biélorussie ,  Bosnie-Herzégovine ,  Bulgarie ,  Caucase ,  Chypre ,  Croatie ,  Danemark  () ,  Espagne ,  Estonie ,  Finlande ,  France   ( Bretagne ,  Lorraine ,  Paris  et  Nouvelle-Calédonie ) ,  Géorgie ,  Grèce ,  Hongrie ,  Irlande ,  Islande ,  Italie ,  Kazakhstan ,  Kosovo ,  Lettonie ,  Liechtenstein ,  Lituanie ,  Luxembourg ,  Macédoine du Nord ,  Malte ,  Moldavie ,  Monaco ,  Monténégro ,  Norvège ,  Ossétie du Sud-Alanie ,  Pays-Bas ,  Pologne ,  Portugal ,  Roumanie ,  Royaume-Uni   () ,  Russie  () ,  Saint-Marin ,  Serbie ,  Slovaquie ,  Slovénie ,  Suède ,  Suisse ,  Tchéquie ,  Turquie ,  Ukraine  et  Vatican  Australie ,  Fidji ,  Indonésie ,  Nauru ,  Nouvelle-Zélande ,  Papouasie-Nouvelle-Guinée ,  Îles Salomon ,  Samoa ,  Samoa américaines ,  Timor oriental ,  Tonga ,  Tuvalu  et  Vanuatu  Manche ,  Mer Baltique ,  Mer des Caraïbes ,  Mer Caspienne ,  Mer Méditerranée ,  Mer du Nord ,  Mer Noire ,  Mer Rouge ,  Océan Arctique ,  Océan Atlantique ,  Océan Austral ,  Océan Indien  et  Océan Pacifique  Animation asiatique ,  Architecture ,  Arts plastiques  ( Dessin ,  Gravure ,  Lithographie ,  Peinture  et  Sculpture ) ,  Bande dessinée ,  Cinéma ,  Danse ,  Disney ,  Échecs ,  Fantasy ,  Internet ,  Jeu ,  Jeu vidéo ,  Littérature  () ,  Musique populaire ,  Musique classique ,  Photographie ,  Radio ,  Science-fiction ,  Télévision  et  Théâtre  Aéronautique  () ,  Architecture ,  Astronautique ,  Chemins de fer  () ,  Informatique ,  Internet  et  Parcs de loisirs  Droit ,  Élections ,  Nations unies  et  Union européenne  Bouddhisme ,  Christianisme  ( Catholicisme , et  Protestantisme ) ,  Hindouisme ,  Islam  et  Judaïsme  Archéologie ,  Astronomie  ( Liste des planètes mineures non numérotées découvertes ) ,  Biologie ,  Chimie ,  Climatologie ,  Économie (discipline) ,  Exploration ,  Géologie ,  Histoire ,  Informatique ,  Linguistique ,  Mathématiques ,  Numismatique ,  Paléontologie ,  Physique ,  Psychologie ,  Santé et médecine  et  Sociologie  Athlétisme ,  Aviron ,  Baseball ,  Boxe anglaise ,  Baseball ,  Badminton ,  Basket-ball ,  Bobsleigh ,  Canoë-kayak ,  Catch ,  Combiné nordique ,  Curling ,  Cyclisme ,  Escrime ,  Football ,  Football américain ,  Golf ,  Gymnastique ,  Handball ,  Hockey sur gazon ,  Hockey sur glace ,  Judo ,  Lutte ,  Natation ,  Patinage artistique ,  Patinage de vitesse ,  Pentathlon moderne ,  Rugby à XIII ,  Rugby à XV ,  Ski ,  Sport automobile ,  Sports équestres ,  Sport hippique ,  Taekwondo ,  Tennis ,  Tennis de table ,  Tir à l\\'arc ,  Triathlon  et  Volley-ball  modifier   L\\'année  2006  est une  année commune  qui  commence un dimanche .C\\'est la 2006 e  année de  notre ère , la  6 e année du  III e millénaire et du  XXI e siècle  et la  7 e année de la  décennie 2000-2009 .\",L\\'année 2006 commence quel jour ?,\"{\\'text\\': \\'dimanche\\', \\'answer_start\\': 4987}\"']\n",
      "['47,ronronnement,\"Vous lisez un « article de qualité » labellisé en 2010. Pour un article plus général, voir  Chat .  Le  ronronnement  est une  vocalisation  émise par certains  félins  et  viverridés . Produit à l’expiration comme à l’inspiration, ce son de basse fréquence apparaît dès l’âge de deux jours. Le mécanisme du ronronnement est encore mal expliqué. La théorie dominante est que le son est produit par des contractions des muscles du  larynx  déclenchées par une  oscillation neurale  et faisant vibrer les  cordes vocales . La possibilité pour un félin de ronronner ou non est également un point débattu, notamment pour les grands félins de la  sous-famille  des  Panthérinés . Le ronronnement est essentiellement limité aux relations mère-progéniture dans la nature, mais le  chat domestique  peut ronronner tant dans une situation de  plaisir  que de  souffrance , c’est pourquoi la signification de cette vocalisation de contact est peu évidente. Comparé au  sourire  par certains auteurs, son rôle social, tant avec des congénères qu’avec l’ Homme , est primordial. Une théorie assure au ronronnement un rôle  curatif : les basses fréquences émises permettraient de renforcer les os, les muscles, les tendons et auraient même un rôle anti- douleur . En français, les termes associés au mot  «ronronnement»  sont tirés de l’ onomatopée   «ronron» .\",Quel est l\\'onomatopée du ronronnement ?,\"{\\'text\\': \\'ronron\\', \\'answer_start\\': 104}\"']\n",
      "['48,argot,\"Pour les articles ayant des titres homophones, voir  Argo  et  Hargot . Cet article possède un  paronyme , voir  largo . Un  argot  est une variété linguistique spécifique à un groupe social ou socio-professionnel, qui permet de se différencier des non-initiés et de se créer une identité propre en utilisant des termes cryptiques [ 1 ] , [ 2 ] . Il s\\'agit d\\'un  sociolecte  qu\\'il faut distinguer du  jargon , qui est propre aux représentants d\\'une profession ou d\\'une activité commune se caractérisant par un lexique spécialisé [ 3 ] . Il est possible que des termes argotiques perdent leurs fonctions cryptique et identitaire. Dans ces cas-là, il ne sera plus vraiment spécifique à un groupe mais surtout utilisé dans une visée ludique. Le nouvel argot qui s’en crée est dénommé «argot commun». Les locuteurs et locutrices «jouent» à reproduire un  parler  largement  connoté . En général, l’argot commun reprend du vocabulaire argotique «dépassé», abandonné par le groupe social qui en est l’origine dès qu’il a été compris par des tiers. Un exemple d’argot commun est le «français branché» des années 1980.\",Qu\\'est-ce qu\\'un argot ?,\"{\\'text\\': \\'une variété linguistique spécifique à un groupe social ou socio-professionnel, qui permet de se différencier des non-initiés et de se créer une identité propre en utilisant des termes cryptiques\\', \\'answer_start\\': 136}\"']\n",
      "['49,bon_article,\"En résumé:  un  bon article  doit faire honneur à Wikipédia par ses qualités intrinsèques, quel que soit le sujet traité. Pour cela, les points suivants seront respectés autant que possible. Le label « Bon article » regroupe les articles qui ont été reconnus comme tels par un vote de la communauté. La proposition d\\'un article au label se fait sur la page  Wikipédia:Bons contenus/Propositions . Les articles proposés comme « Articles de qualité » peuvent aussi être reconnus «Bons articles» s\\'ils n\\'obtiennent pas le label « Article de qualité ». Nota bene:  ces éléments sont des critères généraux permettant d\\'établir (ou de contester) la  qualité d\\'un bon article  susceptible d\\'être ainsi distingué des autres', ' il reste néanmoins nécessaire d\\'exercer un esprit de finesse au cas par cas, pour examiner dans quelle mesure tel critère doit s\\'appliquer avec rigueur ou avec souplesse. En outre, il est toujours préférable de corriger soi-même des défauts mineurs que d\\'en faire un argument contre la promotion d\\'un article.\",\"C\\'est quoi un label \"\"Bon article\"\"\",\"{\\'text\\': \\'les articles qui ont été reconnus comme tels par un vote de la communauté\\', \\'answer_start\\': 225}\"']\n",
      "['50,1560,\"Cette page concerne l\\'année  1560   du  calendrier julien . Pour l\\'année 1560 av. J.-C., voir  1560 av. J.-C.  Architecture ,  Arts plastiques  ( Dessin ,  Gravure ,  Peinture  et  Sculpture ) ,  Littérature  ()  et  Musique classique  () ,  Architecture  et  ()  Droit  (,)  ()  et  Santé et médecine  modifier   L\\'année  1560  est une  année bissextile  qui  commence un lundi .\",L\\'année 1560 commence par quel jour ?,\"{\\'text\\': \\'un lundi\\', \\'answer_start\\': 370}\"']\n"
     ]
    }
   ],
   "source": [
    "import csv\n",
    "\n",
    "with open(\"../data/clean/datas_chat.csv\", 'r') as file:\n",
    "    data = csv.reader(file, delimiter=\";\")\n",
    "    for row in data:\n",
    "        print(row)"
   ]
  },
  {
   "cell_type": "markdown",
   "metadata": {
    "slideshow": {
     "slide_type": "fragment"
    }
   },
   "source": [
    "C'est pas super satisfaisant de devoir itérer sur notre fichier comme ça ...\n",
    "\n",
    "Heureuseuement, il y a d'autres personnes avant nous qui se sont dit la même chose et qui ont crée une librairie pour ouvrir des données un peu mieux que ça."
   ]
  },
  {
   "cell_type": "markdown",
   "metadata": {
    "slideshow": {
     "slide_type": "slide"
    }
   },
   "source": [
    "C'est la librairie `pandas`\n",
    "\n",
    "Qui nous permet de lire : \n",
    "- des csv"
   ]
  },
  {
   "cell_type": "code",
   "execution_count": 15,
   "metadata": {
    "slideshow": {
     "slide_type": "fragment"
    }
   },
   "outputs": [
    {
     "name": "stdout",
     "output_type": "stream",
     "text": [
      "    id                      title  \\\n",
      "0    1                capillarité   \n",
      "1    2                    félidés   \n",
      "2    3                    sourire   \n",
      "3    4                      races   \n",
      "4    5                   toilette   \n",
      "5    6                  clavicule   \n",
      "6    7                    poisson   \n",
      "7    8                   papilles   \n",
      "8    9       animaux_de_compagnie   \n",
      "9   10                 miaulement   \n",
      "10  11                      rural   \n",
      "11  12                 déjections   \n",
      "12  13   vénéré_par_les_Égyptiens   \n",
      "13  14                    estomac   \n",
      "14  15                       ouïe   \n",
      "15  16                onyxectomie   \n",
      "16  17                    toucher   \n",
      "17  18                    surdité   \n",
      "18  19          sommeil_paradoxal   \n",
      "19  20                     Espèce   \n",
      "20  21              Chat_(animal)   \n",
      "21  22                  Synonymes   \n",
      "22  23                  bas_latin   \n",
      "23  24         organe_de_Jacobson   \n",
      "24  25                   pedigree   \n",
      "25  26                        vue   \n",
      "26  27                  Prédateur   \n",
      "27  28                 phéromones   \n",
      "28  29                Antarctique   \n",
      "29  30               chats_harets   \n",
      "30  31  City_University_of_London   \n",
      "31  32                       race   \n",
      "32  33                     oiseau   \n",
      "33  34        glandes_sudoripares   \n",
      "34  35                  carnivore   \n",
      "35  36                       robe   \n",
      "36  37                  Australie   \n",
      "37  38                     espèce   \n",
      "38  39             vieillissement   \n",
      "39  40                    griffes   \n",
      "40  41                     castré   \n",
      "41  42                     odorat   \n",
      "42  43        organe_vestibulaire   \n",
      "43  44                   habitats   \n",
      "44  45                      nuque   \n",
      "45  46                       2006   \n",
      "46  47               ronronnement   \n",
      "47  48                      argot   \n",
      "48  49                bon_article   \n",
      "49  50                       1560   \n",
      "\n",
      "                                              content  \\\n",
      "0   Cet article  ne cite pas suffisamment ses sour...   \n",
      "1   Félidés •  Félins «Félin» redirige ici. Pour l...   \n",
      "2   Pour les articles homonymes, voir  Sourire (ho...   \n",
      "3   «Racial» redirige ici. Pour l’article homophon...   \n",
      "4   Pour les toiletteurs, voir  Toiletteur . Le  t...   \n",
      "5   Certaines informations figurant dans cet artic...   \n",
      "6   Pour les articles homonymes, voir  Poisson (ho...   \n",
      "7   En  biologie  et en  anatomie , une  papille  ...   \n",
      "8   Un  animal de compagnie  est un  animal  recev...   \n",
      "9    Le  miaulement  est une vocalisation émise pa...   \n",
      "10  Pour les articles homonymes, voir  Campagne (h...   \n",
      "11  Cet article est une  ébauche  concernant la  b...   \n",
      "12  Le  chat  était l'un des nombreux animaux dont...   \n",
      "13  Cet article  ne cite pas suffisamment ses sour...   \n",
      "14  Pour les articles homonymes, voir  Ouïe . Cet ...   \n",
      "15  L' onyxectomie  (du  grec   onyx , l'ongle), o...   \n",
      "16  «Tact» redirige ici.  Pour le ruisseau, voir  ...   \n",
      "17  Cet article  doit être  recyclé   ( mars 2021 ...   \n",
      "18  Cet article est une  ébauche  concernant la  m...   \n",
      "19  Cet article concerne le sens biologique du mot...   \n",
      "20  Pour les articles homonymes, voir  Chat (homon...   \n",
      "21  Pour les articles homonymes, voir  Synonymie ....   \n",
      "22  Cet article est une  ébauche  concernant la  R...   \n",
      "23  L’ organe voméronasal  (ou  «OVN»  ou  organe ...   \n",
      "24  Pour les articles homonymes, voir  Pedigree (h...   \n",
      "25  Pour les articles homonymes, voir  Vue (homony...   \n",
      "26  Pour les articles homonymes, voir  Prédateur (...   \n",
      "27  Une  phéromone  (ou phérormone ou encore phéro...   \n",
      "28  Pour les articles homonymes, voir  Antarctique...   \n",
      "29  Le  chat haret , ou  chat errant , est un  cha...   \n",
      "30  modifier  -  modifier le code  -  modifier Wik...   \n",
      "31  «Racial» redirige ici. Pour l’article homophon...   \n",
      "32  Aves Vous lisez un « article de qualité » labe...   \n",
      "33  Cet article est une  ébauche  concernant l’ an...   \n",
      "34  Pour les articles homonymes, voir  Carnivore (...   \n",
      "35  Pour les articles homonymes, voir  Robe . Cet ...   \n",
      "36  Cet article possède des  paronymes , voir  Aus...   \n",
      "37  Cet article concerne le sens biologique du mot...   \n",
      "38  Le  vieillissement  est l'ensemble des modific...   \n",
      "39  Pour les articles homonymes, voir  Griffe . Un...   \n",
      "40  La  castration  est l'annihilation (avec ou sa...   \n",
      "41  L' olfaction  ou l' odorat  est le  sens  qui ...   \n",
      "42  Le  système vestibulaire  est un  organe senso...   \n",
      "43  Pour les articles homonymes, voir  Habitat . L...   \n",
      "44  Cet article est une  ébauche  concernant l’ an...   \n",
      "45   Cette page concerne l'année  2006  (MMVI en c...   \n",
      "46  Vous lisez un « article de qualité » labellisé...   \n",
      "47  Pour les articles ayant des titres homophones,...   \n",
      "48  En résumé:  un  bon article  doit faire honneu...   \n",
      "49  Cette page concerne l'année  1560   du  calend...   \n",
      "\n",
      "                                             question  \\\n",
      "0   Quelle force de tension se produit sur la capi...   \n",
      "1   Quel est le denier encêtre commun des félins m...   \n",
      "2                           Que témoigne le sourire ?   \n",
      "3                        Que désigne le mot «race» ?    \n",
      "4          Quand est apparue la tondeuse pour chien ?   \n",
      "5                          Où se situe la clavicule ?   \n",
      "6   Quel est la répartition des poissons dans l'oc...   \n",
      "7                   De quoi est composé une pupille ?   \n",
      "8   Qu'est ce qui est attendu d'un animal de compa...   \n",
      "9   Quel est l'onomatopée du miaulement en français ?   \n",
      "10              Quel terme est associé au mot rural ?   \n",
      "11          Quel forme peuvent avoir les déjections ?   \n",
      "12   Quel animal était vénéré dans l'Egypte antique ?   \n",
      "13                            Où se situe l'estomac ?   \n",
      "14                   Que permet de percevoir l'ouïe ?   \n",
      "15                   En quoi consiste le dégriffage ?   \n",
      "16                 Avec quoi se confond le toucher ?    \n",
      "17              Quel type d'handicap est la surdité ?   \n",
      "18               Qu'est ce que le sommeil paradoxal ?   \n",
      "19  Quelles sont les origines latines du mot espèce ?   \n",
      "20                   De quelles taille est le cha t?    \n",
      "21  Qu'est ce qu'on synonyme dans la nomenclature ...   \n",
      "22             De quelle époque vient le bas latin ?    \n",
      "23                 Où se situe l'organe de Jacobson ?   \n",
      "24                         Que garantie le pédigrée ?   \n",
      "25  Grâce à quoi est-il possible d'interagir avec ...   \n",
      "26               Quelle action produit un prédateur ?   \n",
      "27           Par quoi sont produites les phéromones ?   \n",
      "28                        Où se situe l'Antarctique ?   \n",
      "29  A quoi est lié la différence entre le chat har...   \n",
      "30  Quand a été fondée la City Université of London ?   \n",
      "31  Dans quel but sont distinguées les races et le...   \n",
      "32     Quelles sont les caractéristique des oiseaux ?   \n",
      "33  Quelle est la fonction première des glandes su...   \n",
      "34   Quelle est la forme des canines des carnivores ?   \n",
      "35  Par quel pigments est influencé la couleur de ...   \n",
      "36  Quel  pays est le plus grand pays d'Océanie et...   \n",
      "37  Chez qui le critère l'interfécondité ne peut p...   \n",
      "38  Comment s'appelle l'étude de la vieillesse et ...   \n",
      "39  Chez quels espèces les griffes se trouvent au ...   \n",
      "40  Comment s'intitule l'ablation de la verge et d...   \n",
      "41  Quel est le deuxième nom pour qualifier l'olfa...   \n",
      "42        A quoi peut-on comparer l'oreille interne ?   \n",
      "43  Dans quel domaine est utilisé le concept d'hab...   \n",
      "44             Ou se situe la partie dorsale du cou ?   \n",
      "45                  L'année 2006 commence quel jour ?   \n",
      "46            Quel est l'onomatopée du ronronnement ?   \n",
      "47                            Qu'est-ce qu'un argot ?   \n",
      "48                  C'est quoi un label \"Bon article\"   \n",
      "49              L'année 1560 commence par quel jour ?   \n",
      "\n",
      "                                               answer  \n",
      "0   {'text': 'forces de  tension superficielle', '...  \n",
      "1      {'text': 'Pseudaelurus', 'answer_start': 1238}  \n",
      "2       {'text': 'la sympathie', 'answer_start': 124}  \n",
      "3   {'text': \"des groupes d'une même espèce animal...  \n",
      "4            {'text': 'en 1850', 'answer_start': 648}  \n",
      "5   {'text': 'la  ceinture scapulaire', 'answer_st...  \n",
      "6   {'text': '50% des poissons vivraient dans 17% ...  \n",
      "7   {'text': 'un tissu épithélial', 'answer_start'...  \n",
      "8   {'text': 'sa présence, de sa beauté, de sa jov...  \n",
      "9              {'text': 'miaou', 'answer_start': 127}  \n",
      "10           {'text': 'campagne', 'answer_start': 62}  \n",
      "11  {'text': 'forme solide ou liquide', 'answer_st...  \n",
      "12            {'text': 'Le chat', 'answer_start': -1}  \n",
      "13  {'text': 'entre l’ œsophage et le duodénum', '...  \n",
      "14           {'text': 'des sons', 'answer_start': -1}  \n",
      "15  {'text': \"l'ablation des griffes\", 'answer_sta...  \n",
      "16        {'text': 'le contact', 'answer_start': 892}  \n",
      "17  {'text': 'un handicap auditif', 'answer_start'...  \n",
      "18  {'text': 'la phase du sommeil au cours de laqu...  \n",
      "19  {'text': 'du latin species , «type» ou «appare...  \n",
      "20  {'text': 'de taille moyenne ou petite', 'answe...  \n",
      "21  {'text': 'des noms scientifiques différents po...  \n",
      "22  {'text': 'Antiquité tardive', 'answer_start': ...  \n",
      "23  {'text': 'sous la surface intérieure du nez', ...  \n",
      "24  {'text': 'la pureté de la race', 'answer_start...  \n",
      "25  {'text': 'rayonnements lumineux', 'answer_star...  \n",
      "26  {'text': \"l'action de prendre, de capturer\", '...  \n",
      "27  {'text': 'des glandes exocrines', 'answer_star...  \n",
      "28  {'text': 'autour du pôle Sud', 'answer_start':...  \n",
      "29       {'text': 'éthologique', 'answer_start': 554}  \n",
      "30            {'text': 'en 1894', 'answer_start': -1}  \n",
      "31  {'text': \"à des fins d' élevage et de sélectio...  \n",
      "32  {'text': 'la bipédie , des ailes , un plumage ...  \n",
      "33   {'text': 'la transpiration', 'answer_start': -1}  \n",
      "34          {'text': 'en crocs', 'answer_start': 490}  \n",
      "35  {'text': 'la mélanine et la phéomélanine', 'an...  \n",
      "36       {'text': \"l'Australie\", 'answer_start': 907}  \n",
      "37  {'text': 'les  fossiles , les  organismes   as...  \n",
      "38    {'text': 'la  gériatrie', 'answer_start': 1491}  \n",
      "39  {'text': 'certains  mammifères , des  oiseaux ...  \n",
      "40  {'text': 'une émasculation', 'answer_start': 826}  \n",
      "41          {'text': \"l' odorat\", 'answer_start': 17}  \n",
      "42  {'text': 'à une  centrale inertielle', 'answer...  \n",
      "43        {'text': \"l' écologie\", 'answer_start': 99}  \n",
      "44  {'text': \"en arrière d'un plan frontal passant...  \n",
      "45         {'text': 'dimanche', 'answer_start': 4987}  \n",
      "46            {'text': 'ronron', 'answer_start': 104}  \n",
      "47  {'text': 'une variété linguistique spécifique ...  \n",
      "48  {'text': 'les articles qui ont été reconnus co...  \n",
      "49          {'text': 'un lundi', 'answer_start': 370}  \n"
     ]
    }
   ],
   "source": [
    "#!pip install pandas\n",
    "\n",
    "import pandas as pd\n",
    "\n",
    "# On lit les données de notre csv.\n",
    "data = pd.read_csv(\"../data/clean/datas_chat.csv\", delimiter=\",\")\n",
    "print(data)"
   ]
  },
  {
   "cell_type": "markdown",
   "metadata": {
    "slideshow": {
     "slide_type": "slide"
    }
   },
   "source": [
    "et comme avant, on peut accéder aux différents attributs :\n",
    "\n",
    "Mais avec une syntaxe un peu différente"
   ]
  },
  {
   "cell_type": "code",
   "execution_count": 16,
   "metadata": {
    "slideshow": {
     "slide_type": "fragment"
    }
   },
   "outputs": [
    {
     "data": {
      "text/plain": [
       "id                                                          1\n",
       "title                                             capillarité\n",
       "content     Cet article  ne cite pas suffisamment ses sour...\n",
       "question    Quelle force de tension se produit sur la capi...\n",
       "answer      {'text': 'forces de  tension superficielle', '...\n",
       "Name: 0, dtype: object"
      ]
     },
     "execution_count": 16,
     "metadata": {},
     "output_type": "execute_result"
    }
   ],
   "source": [
    "# Affiche tout le contenu de la première ligne du tableau.\n",
    "data.loc[0]"
   ]
  },
  {
   "cell_type": "code",
   "execution_count": 17,
   "metadata": {
    "slideshow": {
     "slide_type": "subslide"
    }
   },
   "outputs": [
    {
     "data": {
      "text/plain": [
       "0     Quelle force de tension se produit sur la capi...\n",
       "1     Quel est le denier encêtre commun des félins m...\n",
       "2                             Que témoigne le sourire ?\n",
       "3                          Que désigne le mot «race» ? \n",
       "4            Quand est apparue la tondeuse pour chien ?\n",
       "5                            Où se situe la clavicule ?\n",
       "6     Quel est la répartition des poissons dans l'oc...\n",
       "7                     De quoi est composé une pupille ?\n",
       "8     Qu'est ce qui est attendu d'un animal de compa...\n",
       "9     Quel est l'onomatopée du miaulement en français ?\n",
       "10                Quel terme est associé au mot rural ?\n",
       "11            Quel forme peuvent avoir les déjections ?\n",
       "12     Quel animal était vénéré dans l'Egypte antique ?\n",
       "13                              Où se situe l'estomac ?\n",
       "14                     Que permet de percevoir l'ouïe ?\n",
       "15                     En quoi consiste le dégriffage ?\n",
       "16                   Avec quoi se confond le toucher ? \n",
       "17                Quel type d'handicap est la surdité ?\n",
       "18                 Qu'est ce que le sommeil paradoxal ?\n",
       "19    Quelles sont les origines latines du mot espèce ?\n",
       "20                     De quelles taille est le cha t? \n",
       "21    Qu'est ce qu'on synonyme dans la nomenclature ...\n",
       "22               De quelle époque vient le bas latin ? \n",
       "23                   Où se situe l'organe de Jacobson ?\n",
       "24                           Que garantie le pédigrée ?\n",
       "25    Grâce à quoi est-il possible d'interagir avec ...\n",
       "26                 Quelle action produit un prédateur ?\n",
       "27             Par quoi sont produites les phéromones ?\n",
       "28                          Où se situe l'Antarctique ?\n",
       "29    A quoi est lié la différence entre le chat har...\n",
       "30    Quand a été fondée la City Université of London ?\n",
       "31    Dans quel but sont distinguées les races et le...\n",
       "32       Quelles sont les caractéristique des oiseaux ?\n",
       "33    Quelle est la fonction première des glandes su...\n",
       "34     Quelle est la forme des canines des carnivores ?\n",
       "35    Par quel pigments est influencé la couleur de ...\n",
       "36    Quel  pays est le plus grand pays d'Océanie et...\n",
       "37    Chez qui le critère l'interfécondité ne peut p...\n",
       "38    Comment s'appelle l'étude de la vieillesse et ...\n",
       "39    Chez quels espèces les griffes se trouvent au ...\n",
       "40    Comment s'intitule l'ablation de la verge et d...\n",
       "41    Quel est le deuxième nom pour qualifier l'olfa...\n",
       "42          A quoi peut-on comparer l'oreille interne ?\n",
       "43    Dans quel domaine est utilisé le concept d'hab...\n",
       "44               Ou se situe la partie dorsale du cou ?\n",
       "45                    L'année 2006 commence quel jour ?\n",
       "46              Quel est l'onomatopée du ronronnement ?\n",
       "47                              Qu'est-ce qu'un argot ?\n",
       "48                    C'est quoi un label \"Bon article\"\n",
       "49                L'année 1560 commence par quel jour ?\n",
       "Name: question, dtype: object"
      ]
     },
     "execution_count": 17,
     "metadata": {},
     "output_type": "execute_result"
    }
   ],
   "source": [
    "# Affiche la listes de toutes les questions dans la colonne \"question\".\n",
    "data[\"question\"]"
   ]
  },
  {
   "cell_type": "markdown",
   "metadata": {
    "slideshow": {
     "slide_type": "slide"
    }
   },
   "source": [
    "Pour les corpus de données, on a également une librairie spécifique qui nous est fournie par huggingface 🤗\n",
    "\n",
    "&rarr; C'est la librairie `datasets`"
   ]
  },
  {
   "cell_type": "code",
   "execution_count": 20,
   "metadata": {
    "slideshow": {
     "slide_type": "fragment"
    }
   },
   "outputs": [
    {
     "name": "stdout",
     "output_type": "stream",
     "text": [
      "Collecting ipywidgets\n",
      "  Obtaining dependency information for ipywidgets from https://files.pythonhosted.org/packages/70/1a/7edeedb1c089d63ccd8bd5c0612334774e90cf9337de9fe6c82d90081791/ipywidgets-8.1.2-py3-none-any.whl.metadata\n",
      "  Downloading ipywidgets-8.1.2-py3-none-any.whl.metadata (2.4 kB)\n",
      "Requirement already satisfied: comm>=0.1.3 in /home/lise/Documents/TAL_M1S2/outil_de_traitement_de_corpus/venv/lib/python3.11/site-packages (from ipywidgets) (0.2.2)\n",
      "Requirement already satisfied: ipython>=6.1.0 in /home/lise/Documents/TAL_M1S2/outil_de_traitement_de_corpus/venv/lib/python3.11/site-packages (from ipywidgets) (8.23.0)\n",
      "Requirement already satisfied: traitlets>=4.3.1 in /home/lise/Documents/TAL_M1S2/outil_de_traitement_de_corpus/venv/lib/python3.11/site-packages (from ipywidgets) (5.14.3)\n",
      "Collecting widgetsnbextension~=4.0.10 (from ipywidgets)\n",
      "  Obtaining dependency information for widgetsnbextension~=4.0.10 from https://files.pythonhosted.org/packages/99/bc/82a8c3985209ca7c0a61b383c80e015fd92e74f8ba0ec1af98f9d6ca8dce/widgetsnbextension-4.0.10-py3-none-any.whl.metadata\n",
      "  Downloading widgetsnbextension-4.0.10-py3-none-any.whl.metadata (1.6 kB)\n",
      "Collecting jupyterlab-widgets~=3.0.10 (from ipywidgets)\n",
      "  Obtaining dependency information for jupyterlab-widgets~=3.0.10 from https://files.pythonhosted.org/packages/24/da/db1cb0387a7e4086780aff137987ee924e953d7f91b2a870f994b9b1eeb8/jupyterlab_widgets-3.0.10-py3-none-any.whl.metadata\n",
      "  Downloading jupyterlab_widgets-3.0.10-py3-none-any.whl.metadata (4.1 kB)\n",
      "Requirement already satisfied: decorator in /home/lise/Documents/TAL_M1S2/outil_de_traitement_de_corpus/venv/lib/python3.11/site-packages (from ipython>=6.1.0->ipywidgets) (5.1.1)\n",
      "Requirement already satisfied: jedi>=0.16 in /home/lise/Documents/TAL_M1S2/outil_de_traitement_de_corpus/venv/lib/python3.11/site-packages (from ipython>=6.1.0->ipywidgets) (0.19.1)\n",
      "Requirement already satisfied: matplotlib-inline in /home/lise/Documents/TAL_M1S2/outil_de_traitement_de_corpus/venv/lib/python3.11/site-packages (from ipython>=6.1.0->ipywidgets) (0.1.7)\n",
      "Requirement already satisfied: prompt-toolkit<3.1.0,>=3.0.41 in /home/lise/Documents/TAL_M1S2/outil_de_traitement_de_corpus/venv/lib/python3.11/site-packages (from ipython>=6.1.0->ipywidgets) (3.0.43)\n",
      "Requirement already satisfied: pygments>=2.4.0 in /home/lise/Documents/TAL_M1S2/outil_de_traitement_de_corpus/venv/lib/python3.11/site-packages (from ipython>=6.1.0->ipywidgets) (2.17.2)\n",
      "Requirement already satisfied: stack-data in /home/lise/Documents/TAL_M1S2/outil_de_traitement_de_corpus/venv/lib/python3.11/site-packages (from ipython>=6.1.0->ipywidgets) (0.6.3)\n",
      "Requirement already satisfied: typing-extensions in /home/lise/Documents/TAL_M1S2/outil_de_traitement_de_corpus/venv/lib/python3.11/site-packages (from ipython>=6.1.0->ipywidgets) (4.10.0)\n",
      "Requirement already satisfied: pexpect>4.3 in /home/lise/Documents/TAL_M1S2/outil_de_traitement_de_corpus/venv/lib/python3.11/site-packages (from ipython>=6.1.0->ipywidgets) (4.9.0)\n",
      "Requirement already satisfied: parso<0.9.0,>=0.8.3 in /home/lise/Documents/TAL_M1S2/outil_de_traitement_de_corpus/venv/lib/python3.11/site-packages (from jedi>=0.16->ipython>=6.1.0->ipywidgets) (0.8.4)\n",
      "Requirement already satisfied: ptyprocess>=0.5 in /home/lise/Documents/TAL_M1S2/outil_de_traitement_de_corpus/venv/lib/python3.11/site-packages (from pexpect>4.3->ipython>=6.1.0->ipywidgets) (0.7.0)\n",
      "Requirement already satisfied: wcwidth in /home/lise/Documents/TAL_M1S2/outil_de_traitement_de_corpus/venv/lib/python3.11/site-packages (from prompt-toolkit<3.1.0,>=3.0.41->ipython>=6.1.0->ipywidgets) (0.2.13)\n",
      "Requirement already satisfied: executing>=1.2.0 in /home/lise/Documents/TAL_M1S2/outil_de_traitement_de_corpus/venv/lib/python3.11/site-packages (from stack-data->ipython>=6.1.0->ipywidgets) (2.0.1)\n",
      "Requirement already satisfied: asttokens>=2.1.0 in /home/lise/Documents/TAL_M1S2/outil_de_traitement_de_corpus/venv/lib/python3.11/site-packages (from stack-data->ipython>=6.1.0->ipywidgets) (2.4.1)\n",
      "Requirement already satisfied: pure-eval in /home/lise/Documents/TAL_M1S2/outil_de_traitement_de_corpus/venv/lib/python3.11/site-packages (from stack-data->ipython>=6.1.0->ipywidgets) (0.2.2)\n",
      "Requirement already satisfied: six>=1.12.0 in /home/lise/Documents/TAL_M1S2/outil_de_traitement_de_corpus/venv/lib/python3.11/site-packages (from asttokens>=2.1.0->stack-data->ipython>=6.1.0->ipywidgets) (1.16.0)\n",
      "Downloading ipywidgets-8.1.2-py3-none-any.whl (139 kB)\n",
      "\u001b[2K   \u001b[38;2;114;156;31m━━━━━━━━━━━━━━━━━━━━━━━━━━━━━━━━━━━━━━━━\u001b[0m \u001b[32m139.4/139.4 kB\u001b[0m \u001b[31m4.9 MB/s\u001b[0m eta \u001b[36m0:00:00\u001b[0m\n",
      "\u001b[?25hDownloading jupyterlab_widgets-3.0.10-py3-none-any.whl (215 kB)\n",
      "\u001b[2K   \u001b[38;2;114;156;31m━━━━━━━━━━━━━━━━━━━━━━━━━━━━━━━━━━━━━━━━\u001b[0m \u001b[32m215.0/215.0 kB\u001b[0m \u001b[31m4.8 MB/s\u001b[0m eta \u001b[36m0:00:00\u001b[0m[31m53.2 MB/s\u001b[0m eta \u001b[36m0:00:01\u001b[0m\n",
      "\u001b[?25hDownloading widgetsnbextension-4.0.10-py3-none-any.whl (2.3 MB)\n",
      "\u001b[2K   \u001b[38;2;114;156;31m━━━━━━━━━━━━━━━━━━━━━━━━━━━━━━━━━━━━━━━━\u001b[0m \u001b[32m2.3/2.3 MB\u001b[0m \u001b[31m16.6 MB/s\u001b[0m eta \u001b[36m0:00:00\u001b[0mm eta \u001b[36m0:00:01\u001b[0m[36m0:00:01\u001b[0m\n",
      "\u001b[?25hInstalling collected packages: widgetsnbextension, jupyterlab-widgets, ipywidgets\n",
      "Successfully installed ipywidgets-8.1.2 jupyterlab-widgets-3.0.10 widgetsnbextension-4.0.10\n",
      "Requirement already satisfied: datasets in /home/lise/Documents/TAL_M1S2/outil_de_traitement_de_corpus/venv/lib/python3.11/site-packages (2.19.1)\n",
      "Requirement already satisfied: filelock in /home/lise/Documents/TAL_M1S2/outil_de_traitement_de_corpus/venv/lib/python3.11/site-packages (from datasets) (3.14.0)\n",
      "Requirement already satisfied: numpy>=1.17 in /home/lise/Documents/TAL_M1S2/outil_de_traitement_de_corpus/venv/lib/python3.11/site-packages (from datasets) (1.26.4)\n",
      "Requirement already satisfied: pyarrow>=12.0.0 in /home/lise/Documents/TAL_M1S2/outil_de_traitement_de_corpus/venv/lib/python3.11/site-packages (from datasets) (16.0.0)\n",
      "Requirement already satisfied: pyarrow-hotfix in /home/lise/Documents/TAL_M1S2/outil_de_traitement_de_corpus/venv/lib/python3.11/site-packages (from datasets) (0.6)\n",
      "Requirement already satisfied: dill<0.3.9,>=0.3.0 in /home/lise/Documents/TAL_M1S2/outil_de_traitement_de_corpus/venv/lib/python3.11/site-packages (from datasets) (0.3.8)\n",
      "Requirement already satisfied: pandas in /home/lise/Documents/TAL_M1S2/outil_de_traitement_de_corpus/venv/lib/python3.11/site-packages (from datasets) (2.2.2)\n",
      "Requirement already satisfied: requests>=2.19.0 in /home/lise/Documents/TAL_M1S2/outil_de_traitement_de_corpus/venv/lib/python3.11/site-packages (from datasets) (2.31.0)\n",
      "Requirement already satisfied: tqdm>=4.62.1 in /home/lise/Documents/TAL_M1S2/outil_de_traitement_de_corpus/venv/lib/python3.11/site-packages (from datasets) (4.66.4)\n",
      "Requirement already satisfied: xxhash in /home/lise/Documents/TAL_M1S2/outil_de_traitement_de_corpus/venv/lib/python3.11/site-packages (from datasets) (3.4.1)\n",
      "Requirement already satisfied: multiprocess in /home/lise/Documents/TAL_M1S2/outil_de_traitement_de_corpus/venv/lib/python3.11/site-packages (from datasets) (0.70.16)\n",
      "Requirement already satisfied: fsspec[http]<=2024.3.1,>=2023.1.0 in /home/lise/Documents/TAL_M1S2/outil_de_traitement_de_corpus/venv/lib/python3.11/site-packages (from datasets) (2024.3.1)\n",
      "Requirement already satisfied: aiohttp in /home/lise/Documents/TAL_M1S2/outil_de_traitement_de_corpus/venv/lib/python3.11/site-packages (from datasets) (3.9.5)\n",
      "Requirement already satisfied: huggingface-hub>=0.21.2 in /home/lise/Documents/TAL_M1S2/outil_de_traitement_de_corpus/venv/lib/python3.11/site-packages (from datasets) (0.23.0)\n",
      "Requirement already satisfied: packaging in /home/lise/Documents/TAL_M1S2/outil_de_traitement_de_corpus/venv/lib/python3.11/site-packages (from datasets) (24.0)\n",
      "Requirement already satisfied: pyyaml>=5.1 in /home/lise/Documents/TAL_M1S2/outil_de_traitement_de_corpus/venv/lib/python3.11/site-packages (from datasets) (6.0.1)\n",
      "Requirement already satisfied: aiosignal>=1.1.2 in /home/lise/Documents/TAL_M1S2/outil_de_traitement_de_corpus/venv/lib/python3.11/site-packages (from aiohttp->datasets) (1.3.1)\n",
      "Requirement already satisfied: attrs>=17.3.0 in /home/lise/Documents/TAL_M1S2/outil_de_traitement_de_corpus/venv/lib/python3.11/site-packages (from aiohttp->datasets) (23.2.0)\n",
      "Requirement already satisfied: frozenlist>=1.1.1 in /home/lise/Documents/TAL_M1S2/outil_de_traitement_de_corpus/venv/lib/python3.11/site-packages (from aiohttp->datasets) (1.4.1)\n",
      "Requirement already satisfied: multidict<7.0,>=4.5 in /home/lise/Documents/TAL_M1S2/outil_de_traitement_de_corpus/venv/lib/python3.11/site-packages (from aiohttp->datasets) (6.0.5)\n",
      "Requirement already satisfied: yarl<2.0,>=1.0 in /home/lise/Documents/TAL_M1S2/outil_de_traitement_de_corpus/venv/lib/python3.11/site-packages (from aiohttp->datasets) (1.9.4)\n",
      "Requirement already satisfied: typing-extensions>=3.7.4.3 in /home/lise/Documents/TAL_M1S2/outil_de_traitement_de_corpus/venv/lib/python3.11/site-packages (from huggingface-hub>=0.21.2->datasets) (4.10.0)\n",
      "Requirement already satisfied: charset-normalizer<4,>=2 in /home/lise/Documents/TAL_M1S2/outil_de_traitement_de_corpus/venv/lib/python3.11/site-packages (from requests>=2.19.0->datasets) (3.3.2)\n",
      "Requirement already satisfied: idna<4,>=2.5 in /home/lise/Documents/TAL_M1S2/outil_de_traitement_de_corpus/venv/lib/python3.11/site-packages (from requests>=2.19.0->datasets) (3.6)\n",
      "Requirement already satisfied: urllib3<3,>=1.21.1 in /home/lise/Documents/TAL_M1S2/outil_de_traitement_de_corpus/venv/lib/python3.11/site-packages (from requests>=2.19.0->datasets) (2.2.1)\n",
      "Requirement already satisfied: certifi>=2017.4.17 in /home/lise/Documents/TAL_M1S2/outil_de_traitement_de_corpus/venv/lib/python3.11/site-packages (from requests>=2.19.0->datasets) (2024.2.2)\n",
      "Requirement already satisfied: python-dateutil>=2.8.2 in /home/lise/Documents/TAL_M1S2/outil_de_traitement_de_corpus/venv/lib/python3.11/site-packages (from pandas->datasets) (2.9.0.post0)\n",
      "Requirement already satisfied: pytz>=2020.1 in /home/lise/Documents/TAL_M1S2/outil_de_traitement_de_corpus/venv/lib/python3.11/site-packages (from pandas->datasets) (2024.1)\n",
      "Requirement already satisfied: tzdata>=2022.7 in /home/lise/Documents/TAL_M1S2/outil_de_traitement_de_corpus/venv/lib/python3.11/site-packages (from pandas->datasets) (2024.1)\n",
      "Requirement already satisfied: six>=1.5 in /home/lise/Documents/TAL_M1S2/outil_de_traitement_de_corpus/venv/lib/python3.11/site-packages (from python-dateutil>=2.8.2->pandas->datasets) (1.16.0)\n"
     ]
    }
   ],
   "source": [
    "!pip install ipywidgets\n",
    "!pip install datasets\n",
    "\n",
    "from datasets import load_dataset\n",
    "\n",
    "dataset = load_dataset(\"csv\", data_files=\"../data/clean/datas_chat.csv\", split=\"train\")"
   ]
  },
  {
   "cell_type": "markdown",
   "metadata": {
    "slideshow": {
     "slide_type": "slide"
    }
   },
   "source": [
    "On peut aussi créer son propre [script de DataLoading](https://github.com/huggingface/datasets/blob/main/templates/new_dataset_script.py)"
   ]
  },
  {
   "cell_type": "markdown",
   "metadata": {
    "slideshow": {
     "slide_type": "slide"
    }
   },
   "source": [
    "La bibliothèque `datasets` permet de charger facilement les données des corpus disponibles sur le hub de `hugging face` mais est aussi compatible avec la bibliothèque `pandas`"
   ]
  },
  {
   "cell_type": "code",
   "execution_count": 21,
   "metadata": {
    "slideshow": {
     "slide_type": "fragment"
    }
   },
   "outputs": [
    {
     "name": "stderr",
     "output_type": "stream",
     "text": [
      "Downloading readme: 100%|██████████████████████████████████████████████████████| 7.62k/7.62k [00:00<00:00, 22.5MB/s]\n",
      "Downloading data: 100%|████████████████████████████████████████████████████████| 14.5M/14.5M [00:00<00:00, 20.2MB/s]\n",
      "Downloading data: 100%|████████████████████████████████████████████████████████| 1.82M/1.82M [00:00<00:00, 8.77MB/s]\n",
      "Generating train split: 100%|██████████████████████████████████████| 87599/87599 [00:00<00:00, 544840.25 examples/s]\n",
      "Generating validation split: 100%|█████████████████████████████████| 10570/10570 [00:00<00:00, 521402.28 examples/s]\n"
     ]
    }
   ],
   "source": [
    "from datasets import Dataset\n",
    "\n",
    "# Notre corpus de référence est SQuAD.\n",
    "dataset = load_dataset(\"rajpurkar/squad\", split=\"train\")\n",
    "dataset = dataset.to_pandas()\n",
    "dataset = Dataset.from_pandas(dataset)"
   ]
  },
  {
   "cell_type": "markdown",
   "metadata": {
    "slideshow": {
     "slide_type": "slide"
    }
   },
   "source": [
    "On a d'abord des informations sur le dataset"
   ]
  },
  {
   "cell_type": "code",
   "execution_count": 22,
   "metadata": {
    "slideshow": {
     "slide_type": "fragment"
    }
   },
   "outputs": [
    {
     "data": {
      "text/plain": [
       "Dataset({\n",
       "    features: ['id', 'title', 'context', 'question', 'answers'],\n",
       "    num_rows: 87599\n",
       "})"
      ]
     },
     "execution_count": 22,
     "metadata": {},
     "output_type": "execute_result"
    }
   ],
   "source": [
    "dataset"
   ]
  },
  {
   "cell_type": "markdown",
   "metadata": {
    "slideshow": {
     "slide_type": "slide"
    }
   },
   "source": [
    "Et on peut comme avec pandas accéder aux informations contenus dans le dataset (de façon un peu plus directe cette fois)"
   ]
  },
  {
   "cell_type": "code",
   "execution_count": 24,
   "metadata": {
    "slideshow": {
     "slide_type": "fragment"
    }
   },
   "outputs": [
    {
     "data": {
      "text/plain": [
       "{'id': '5733be284776f41900661182',\n",
       " 'title': 'University_of_Notre_Dame',\n",
       " 'context': 'Architecturally, the school has a Catholic character. Atop the Main Building\\'s gold dome is a golden statue of the Virgin Mary. Immediately in front of the Main Building and facing it, is a copper statue of Christ with arms upraised with the legend \"Venite Ad Me Omnes\". Next to the Main Building is the Basilica of the Sacred Heart. Immediately behind the basilica is the Grotto, a Marian place of prayer and reflection. It is a replica of the grotto at Lourdes, France where the Virgin Mary reputedly appeared to Saint Bernadette Soubirous in 1858. At the end of the main drive (and in a direct line that connects through 3 statues and the Gold Dome), is a simple, modern stone statue of Mary.',\n",
       " 'question': 'To whom did the Virgin Mary allegedly appear in 1858 in Lourdes France?',\n",
       " 'answers': {'answer_start': [515], 'text': ['Saint Bernadette Soubirous']}}"
      ]
     },
     "execution_count": 24,
     "metadata": {},
     "output_type": "execute_result"
    }
   ],
   "source": [
    "# On affiche la première ligne de notre dataset SQuAD.\n",
    "dataset[0]"
   ]
  }
 ],
 "metadata": {
  "kernelspec": {
   "display_name": "Python 3 (ipykernel)",
   "language": "python",
   "name": "python3"
  },
  "language_info": {
   "codemirror_mode": {
    "name": "ipython",
    "version": 3
   },
   "file_extension": ".py",
   "mimetype": "text/x-python",
   "name": "python",
   "nbconvert_exporter": "python",
   "pygments_lexer": "ipython3",
   "version": "3.11.6"
  }
 },
 "nbformat": 4,
 "nbformat_minor": 4
}
